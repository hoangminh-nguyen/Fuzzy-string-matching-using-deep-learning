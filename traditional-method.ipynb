{
 "cells": [
  {
   "cell_type": "markdown",
   "metadata": {},
   "source": [
    "### Writting predict function"
   ]
  },
  {
   "cell_type": "code",
   "execution_count": 23,
   "metadata": {},
   "outputs": [],
   "source": [
    "import timeit\n",
    "\n",
    "def predict_string(s1, s2, method, threshold):\n",
    "    if (method(s1, s2) >= threshold):\n",
    "        return 1\n",
    "    return 0\n",
    "\n",
    "def apply_traditional_method(method, threshold, dataset_path, out_path):\n",
    "    start = timeit.default_timer()\n",
    "    num_true_predicted_true = 0\n",
    "    num_true_predicted_false = 0\n",
    "    num_false_predicted_true = 0\n",
    "    num_false_predicted_false = 0\n",
    "    count = 0\n",
    "    with open(dataset_path, \"r\", encoding=\"utf-8\") as f:\n",
    "        while (True):\n",
    "            line = f.readline()\n",
    "            if (line == \"\"):\n",
    "                break\n",
    "            count = count + 1\n",
    "            line_split = line.split(\"\\t\")\n",
    "\n",
    "            s1 = line_split[0].lower()\n",
    "            s2 = line_split[1].lower()\n",
    "            label = 1 if line_split[2].strip() == \"TRUE\" else 0\n",
    "            predict = predict_string(s1, s2, method, threshold)\n",
    "\n",
    "            if (predict == 1 and label == 1):\n",
    "                num_true_predicted_true = num_true_predicted_true + 1\n",
    "            elif (predict == 1 and label == 0):\n",
    "                num_true_predicted_false = num_true_predicted_false + 1\n",
    "            elif (predict == 0 and label == 1):\n",
    "                num_false_predicted_true = num_false_predicted_true + 1\n",
    "            elif (predict == 0 and label == 0):\n",
    "                num_false_predicted_false = num_false_predicted_false + 1\n",
    "            else:\n",
    "                print(\"error line: \", line)\n",
    "\n",
    "    stop = timeit.default_timer()\n",
    "    acc, pre, rec, f1 = 0, 0, 0, 0\n",
    "    if (count > 0):\n",
    "        acc = (num_true_predicted_true + num_false_predicted_false) / (count)\n",
    "    if (num_true_predicted_true + num_false_predicted_true > 0):\n",
    "        pre = (num_true_predicted_true) / (num_true_predicted_true + num_false_predicted_true)\n",
    "    if (num_true_predicted_true + num_true_predicted_false > 0):\n",
    "        rec = (num_true_predicted_true) / (num_true_predicted_true + num_true_predicted_false)\n",
    "    if (pre + rec > 0):\n",
    "        f1 = 2.0 * ((pre * rec) / (pre + rec))\n",
    "    # print(\"THRESHOLD: \", threshold)\n",
    "    # print(\"Running time: \", stop - start)\n",
    "    # print(\"Number of samples: \", count)\n",
    "    # print(\"Accuracy: \", acc)\n",
    "    # print(\"Precision: \", pre)\n",
    "    # print(\"Recall: \", rec)\n",
    "    # print(\"F1 score: \", f1)\n",
    "\n",
    "    # Write result to file\n",
    "    with open(out_path, \"a\") as fout:\n",
    "        out_string = \"THRESHOLD: {:.2f}\\n\\tRunning time (sec.): {:.2f}\\n\\tNumber of samples: {}\\n\\tAccuracy: {:.4f}\\n\"\n",
    "        out_string = out_string + \"\\tPrecision: {:.4f}\\n\\tRecall: {:.4f}\\n\\tF1 score: {:.4f}\\n\\n\"\n",
    "        fout.write(out_string.format(threshold, stop - start, count, acc, pre, rec, f1))\n",
    " \n",
    "def prob_threshold(method, dataset_path, out_path, start=0.1, end=0.9, step=0.05):\n",
    "    threshold = start\n",
    "    while (threshold <= end):\n",
    "        apply_traditional_method(method, threshold, dataset_path, out_path)\n",
    "        threshold = threshold + step"
   ]
  },
  {
   "cell_type": "markdown",
   "metadata": {},
   "source": [
    "### Test on ULAN test set"
   ]
  },
  {
   "cell_type": "code",
   "execution_count": 24,
   "metadata": {},
   "outputs": [],
   "source": [
    "import DeezyMatch.traditional_string_matching as traditional_method\n",
    "\n",
    "dataset_path=\"./dataset/finetuned-test.txt\"\n",
    "output_path=\"./output/traditional-method/\""
   ]
  },
  {
   "cell_type": "code",
   "execution_count": null,
   "metadata": {},
   "outputs": [],
   "source": [
    "# Levenshtein\n",
    "prob_threshold(traditional_method.levenshtein, dataset_path, output_path + \"levenshtein.txt\")\n",
    "prob_threshold(traditional_method.damerau_levenshtein, dataset_path, output_path + \"damerau_levenshtein.txt\")\n",
    "prob_threshold(traditional_method.jaro, dataset_path, output_path + \"jaro.txt\")\n",
    "prob_threshold(traditional_method.jaro_winkler, dataset_path, output_path + \"jaro_winkler.txt\")\n",
    "prob_threshold(traditional_method.sorted_jaro_winkler, dataset_path, output_path + \"sorted_jaro_winkler.txt\")\n",
    "prob_threshold(traditional_method.cosine, dataset_path, output_path + \"cosine.txt\")\n",
    "prob_threshold(traditional_method.jaccard, dataset_path, output_path + \"jaccard.txt\")\n",
    "prob_threshold(traditional_method.overlap, dataset_path, output_path + \"overlap.txt\")\n",
    "prob_threshold(traditional_method.dice, dataset_path, output_path + \"dice.txt\")\n",
    "prob_threshold(traditional_method.soft_jaccard, dataset_path, output_path + \"soft_jaccard.txt\")\n",
    "prob_threshold(traditional_method.monge_elkan, dataset_path, output_path + \"monge_elkan.txt\")\n",
    "#prob_threshold(traditional_method.permuted_winkler, dataset_path, output_path + \"permuted_winkler.txt\")\n",
    "prob_threshold(traditional_method.skipgram, dataset_path, output_path + \"skipgram.txt\")\n",
    "prob_threshold(traditional_method.davies, dataset_path, output_path + \"davies.txt\")\n",
    "print(\"Done\")"
   ]
  },
  {
   "cell_type": "code",
   "execution_count": null,
   "metadata": {},
   "outputs": [],
   "source": []
  }
 ],
 "metadata": {
  "interpreter": {
   "hash": "e32c473f9ae643a177d9aed137210c843a2749e204593912b966393b5abcabe7"
  },
  "kernelspec": {
   "display_name": "Python 3.9.12 64-bit (windows store)",
   "language": "python",
   "name": "python3"
  },
  "language_info": {
   "codemirror_mode": {
    "name": "ipython",
    "version": 3
   },
   "file_extension": ".py",
   "mimetype": "text/x-python",
   "name": "python",
   "nbconvert_exporter": "python",
   "pygments_lexer": "ipython3",
   "version": "3.9.13"
  },
  "orig_nbformat": 4
 },
 "nbformat": 4,
 "nbformat_minor": 2
}
