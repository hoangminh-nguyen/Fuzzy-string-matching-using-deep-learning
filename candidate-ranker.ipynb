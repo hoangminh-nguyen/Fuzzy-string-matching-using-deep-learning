{
 "cells": [
  {
   "cell_type": "code",
   "execution_count": 1,
   "metadata": {},
   "outputs": [
    {
     "data": {
      "text/plain": [
       "['/home/vanltt4/src/DeezyMatch-master',\n",
       " '/usr/local/anaconda3/lib/python38.zip',\n",
       " '/usr/local/anaconda3/lib/python3.8',\n",
       " '/usr/local/anaconda3/lib/python3.8/lib-dynload',\n",
       " '',\n",
       " '/usr/local/anaconda3/lib/python3.8/site-packages',\n",
       " '/usr/local/anaconda3/lib/python3.8/site-packages/IPython/extensions',\n",
       " '/home/vanltt4/.ipython',\n",
       " '/home/vanltt4/.local/lib/python3.8/site-packages']"
      ]
     },
     "execution_count": 1,
     "metadata": {},
     "output_type": "execute_result"
    }
   ],
   "source": [
    "# bùa chú\n",
    "import sys\n",
    "sys.path.append(\"/home/vanltt4/.local/lib/python3.8/site-packages\")\n",
    "sys.path"
   ]
  },
  {
   "cell_type": "markdown",
   "metadata": {},
   "source": [
    "# DeezyMatch, example_001"
   ]
  },
  {
   "cell_type": "markdown",
   "metadata": {},
   "source": [
    "## Model inference"
   ]
  },
  {
   "cell_type": "code",
   "execution_count": null,
   "metadata": {
    "scrolled": true
   },
   "outputs": [],
   "source": [
    "from DeezyMatch import inference as dm_inference\n",
    "\n",
    "# model inference using a model stored at pretrained_model_path and pretrained_vocab_path \n",
    "dm_inference(input_file_path=\"./models/finetuned_trans_09052022/input_dfm_rnn.yaml\",\n",
    "             dataset_path=\"./dataset/dataset-string-matching_test.txt\", \n",
    "             pretrained_model_path=\"./models/finetuned_trans_09052022/finetuned_trans_09052022.model\", \n",
    "             pretrained_vocab_path=\"./models/finetuned_trans_09052022/finetuned_trans_09052022.vocab\")"
   ]
  },
  {
   "cell_type": "markdown",
   "metadata": {},
   "source": [
    "## Generate query vectors"
   ]
  },
  {
   "cell_type": "code",
   "execution_count": 7,
   "metadata": {},
   "outputs": [
    {
     "name": "stdout",
     "output_type": "stream",
     "text": [
      "\u001b[92m2022-05-14 04:47:57\u001b[0m \u001b[95mu116614\u001b[0m \u001b[1m\u001b[90m[INFO]\u001b[0m \u001b[2;32mread input file: ./models/finetuned_trans_09052022/input_dfm_rnn.yaml\u001b[0m\n",
      "\u001b[92m2022-05-14 04:47:57\u001b[0m \u001b[95mu116614\u001b[0m \u001b[1m\u001b[90m[INFO]\u001b[0m \u001b[1;32mpytorch will use: cuda\u001b[0m\n",
      "\u001b[92m2022-05-14 04:47:59\u001b[0m \u001b[95mu116614\u001b[0m \u001b[1m\u001b[90m[INFO]\u001b[0m \u001b[2;32mread CSV file: ./dataset/dataset-ULAN-queries.txt\u001b[0m\n",
      "\u001b[92m2022-05-14 04:47:59\u001b[0m \u001b[95mu116614\u001b[0m \u001b[1m\u001b[90m[INFO]\u001b[0m \u001b[1;32mnumber of labels, True: 29 and False: 0\u001b[0m\n",
      "\u001b[92m2022-05-14 04:47:59\u001b[0m \u001b[95mu116614\u001b[0m \u001b[1m\u001b[90m[INFO]\u001b[0m \u001b[2;32mskipping 0 lines\u001b[0m\n"
     ]
    },
    {
     "name": "stderr",
     "output_type": "stream",
     "text": [
      "                                                  "
     ]
    },
    {
     "name": "stdout",
     "output_type": "stream",
     "text": [
      "\u001b[92m2022-05-14 04:47:59\u001b[0m \u001b[95mu116614\u001b[0m \u001b[1m\u001b[90m[INFO]\u001b[0m \u001b[2;32msave test-data-class: /home/vanltt4/src/DeezyMatch-master/queries/ULAN/dataframe.df\u001b[0m\n"
     ]
    },
    {
     "name": "stderr",
     "output_type": "stream",
     "text": [
      "\r"
     ]
    },
    {
     "data": {
      "application/vnd.jupyter.widget-view+json": {
       "model_id": "fbbfd41c8663433e8949ecfd8efb8a78",
       "version_major": 2,
       "version_minor": 0
      },
      "text/plain": [
       "  0%|          | 0/1 [00:00<?, ?it/s]"
      ]
     },
     "metadata": {},
     "output_type": "display_data"
    },
    {
     "name": "stdout",
     "output_type": "stream",
     "text": [
      "--- 2.1560702323913574 seconds ---\n"
     ]
    }
   ],
   "source": [
    "from DeezyMatch import inference as dm_inference\n",
    "\n",
    "# generate vectors for queries (specified in dataset_path) \n",
    "# using a model stored at pretrained_model_path and pretrained_vocab_path \n",
    "dm_inference(input_file_path=\"./models/finetuned_trans_09052022/input_dfm_rnn.yaml\",\n",
    "            dataset_path=\"./dataset/dataset-ULAN-queries.txt\", \n",
    "            pretrained_model_path=\"./models/finetuned_trans_09052022/finetuned_trans_09052022.model\", \n",
    "            pretrained_vocab_path=\"./models/finetuned_trans_09052022/finetuned_trans_09052022.vocab\",\n",
    "            inference_mode=\"vect\",\n",
    "            scenario=\"queries/ULAN\")"
   ]
  },
  {
   "cell_type": "markdown",
   "metadata": {},
   "source": [
    "## Generate candidate vectors"
   ]
  },
  {
   "cell_type": "code",
   "execution_count": 12,
   "metadata": {},
   "outputs": [
    {
     "name": "stdout",
     "output_type": "stream",
     "text": [
      "\u001b[92m2022-05-14 04:49:15\u001b[0m \u001b[95mu116614\u001b[0m \u001b[1m\u001b[90m[INFO]\u001b[0m \u001b[2;32mread input file: ./models/finetuned_trans_09052022/input_dfm_rnn.yaml\u001b[0m\n",
      "\u001b[92m2022-05-14 04:49:15\u001b[0m \u001b[95mu116614\u001b[0m \u001b[1m\u001b[90m[INFO]\u001b[0m \u001b[1;32mpytorch will use: cuda\u001b[0m\n",
      "\u001b[92m2022-05-14 04:49:17\u001b[0m \u001b[95mu116614\u001b[0m \u001b[1m\u001b[90m[INFO]\u001b[0m \u001b[2;32mread CSV file: ./dataset/dataset-ULAN-candidates.txt\u001b[0m\n",
      "\u001b[92m2022-05-14 04:49:17\u001b[0m \u001b[95mu116614\u001b[0m \u001b[1m\u001b[90m[INFO]\u001b[0m \u001b[1;32mnumber of labels, True: 73 and False: 0\u001b[0m\n",
      "\u001b[92m2022-05-14 04:49:17\u001b[0m \u001b[95mu116614\u001b[0m \u001b[1m\u001b[90m[INFO]\u001b[0m \u001b[2;32mskipping 0 lines\u001b[0m\n"
     ]
    },
    {
     "name": "stderr",
     "output_type": "stream",
     "text": [
      "                                                  "
     ]
    },
    {
     "name": "stdout",
     "output_type": "stream",
     "text": [
      "\u001b[92m2022-05-14 04:49:17\u001b[0m \u001b[95mu116614\u001b[0m \u001b[1m\u001b[90m[INFO]\u001b[0m \u001b[2;32msave test-data-class: /home/vanltt4/src/DeezyMatch-master/candidates/ULAN/dataframe.df\u001b[0m\n"
     ]
    },
    {
     "name": "stderr",
     "output_type": "stream",
     "text": [
      "\r"
     ]
    },
    {
     "data": {
      "application/vnd.jupyter.widget-view+json": {
       "model_id": "c5f89b672853408cb13e4154ca8f58e7",
       "version_major": 2,
       "version_minor": 0
      },
      "text/plain": [
       "  0%|          | 0/1 [00:00<?, ?it/s]"
      ]
     },
     "metadata": {},
     "output_type": "display_data"
    },
    {
     "name": "stdout",
     "output_type": "stream",
     "text": [
      "--- 2.2505648136138916 seconds ---\n"
     ]
    }
   ],
   "source": [
    "from DeezyMatch import inference as dm_inference\n",
    "\n",
    "# generate vectors for candidates (specified in dataset_path) \n",
    "# using a model stored at pretrained_model_path and pretrained_vocab_path \n",
    "dm_inference(input_file_path=\"./models/finetuned_trans_09052022/input_dfm_rnn.yaml\",\n",
    "             dataset_path=\"./dataset/dataset-ULAN-candidates.txt\", \n",
    "             pretrained_model_path=\"./models/finetuned_trans_09052022/finetuned_trans_09052022.model\", \n",
    "             pretrained_vocab_path=\"./models/finetuned_trans_09052022/finetuned_trans_09052022.vocab\",\n",
    "             inference_mode=\"vect\",\n",
    "             scenario=\"candidates/ULAN\")"
   ]
  },
  {
   "cell_type": "markdown",
   "metadata": {},
   "source": [
    "## Transformer- Assembling candidates/queries vector representations"
   ]
  },
  {
   "cell_type": "code",
   "execution_count": 13,
   "metadata": {},
   "outputs": [
    {
     "name": "stdout",
     "output_type": "stream",
     "text": [
      "\u001b[92m2022-05-14 04:49:21\u001b[0m \u001b[95mu116614\u001b[0m \u001b[1m\u001b[90m[INFO]\u001b[0m \u001b[2;32mread input file: candidates/ULAN/input_dfm_rnn.yaml\u001b[0m\n",
      "\u001b[92m2022-05-14 04:49:21\u001b[0m \u001b[95mu116614\u001b[0m \u001b[1m\u001b[90m[INFO]\u001b[0m \u001b[1;32mpytorch will use: cuda\u001b[0m\n",
      "\n",
      "\n",
      "-- Combine vectors\n",
      "Reading vectors from candidates/ULAN/embeddings/finetuned_trans_09052022_vecs_*\n",
      "list_files:  ['candidates/ULAN/embeddings/finetuned_trans_09052022_vecs_0']\n",
      "0000000 candidates/ULAN/embeddings/finetuned_trans_09052022_vecs_0\n",
      "0\n",
      "\n",
      "\n",
      "-- Combine IDs\n",
      "0000000 candidates/ULAN/embeddings/finetuned_trans_09052022_indxs_0\n",
      "\n",
      "--- 169.3242790699005 seconds ---\n"
     ]
    }
   ],
   "source": [
    "from DeezyMatch import combine_vecs_trans\n",
    "\n",
    "# combine vectors stored in candidates/test and save them in combined/candidates_test\n",
    "combine_vecs_trans(model_name=\"finetuned_trans_09052022\", \n",
    "             input_scenario='candidates/ULAN', \n",
    "             output_scenario='combined/candidates_ULAN', \n",
    "             print_every=10)"
   ]
  },
  {
   "cell_type": "code",
   "execution_count": 14,
   "metadata": {},
   "outputs": [
    {
     "name": "stdout",
     "output_type": "stream",
     "text": [
      "\u001b[92m2022-05-14 04:49:26\u001b[0m \u001b[95mu116614\u001b[0m \u001b[1m\u001b[90m[INFO]\u001b[0m \u001b[2;32mread input file: queries/ULAN/input_dfm_rnn.yaml\u001b[0m\n",
      "\u001b[92m2022-05-14 04:49:26\u001b[0m \u001b[95mu116614\u001b[0m \u001b[1m\u001b[90m[INFO]\u001b[0m \u001b[1;32mpytorch will use: cuda\u001b[0m\n",
      "\n",
      "\n",
      "-- Combine vectors\n",
      "Reading vectors from queries/ULAN/embeddings/finetuned_trans_09052022_vecs_*\n",
      "list_files:  ['queries/ULAN/embeddings/finetuned_trans_09052022_vecs_0']\n",
      "0000000 queries/ULAN/embeddings/finetuned_trans_09052022_vecs_0\n",
      "0\n",
      "\n",
      "\n",
      "-- Combine IDs\n",
      "0000000 queries/ULAN/embeddings/finetuned_trans_09052022_indxs_0\n",
      "\n",
      "--- 173.81107902526855 seconds ---\n"
     ]
    }
   ],
   "source": [
    "from DeezyMatch import combine_vecs_trans\n",
    "\n",
    "# combine vectors stored in candidates/test and save them in combined/candidates_test\n",
    "combine_vecs_trans(model_name=\"finetuned_trans_09052022\", \n",
    "             input_scenario='queries/ULAN', \n",
    "             output_scenario='combined/queries_ULAN', \n",
    "             print_every=10)"
   ]
  },
  {
   "cell_type": "markdown",
   "metadata": {},
   "source": [
    "## Candidate Ranker"
   ]
  },
  {
   "cell_type": "code",
   "execution_count": 19,
   "metadata": {
    "scrolled": true
   },
   "outputs": [
    {
     "name": "stdout",
     "output_type": "stream",
     "text": [
      "\u001b[92m2022-05-14 04:53:43\u001b[0m \u001b[95mu116614\u001b[0m \u001b[1m\u001b[90m[INFO]\u001b[0m \u001b[2;32mread input file: ./combined/candidates_ULAN/input_dfm_rnn.yaml\u001b[0m\n",
      "\u001b[92m2022-05-14 04:53:43\u001b[0m \u001b[95mu116614\u001b[0m \u001b[1m\u001b[90m[INFO]\u001b[0m \u001b[1;32mpytorch will use: cuda\u001b[0m\n",
      "Is faiss_id_candis already trained? True\n",
      "=========== Start the search for 0 Van Le Tran Truc\n",
      "all_candidates:  ['le tran truc van' 'macclure victor' 'laure tixier' 'max truninger'\n",
      " 'adam callander']\n"
     ]
    },
    {
     "name": "stderr",
     "output_type": "stream",
     "text": [
      "                                                 \r"
     ]
    },
    {
     "data": {
      "application/vnd.jupyter.widget-view+json": {
       "model_id": "e1bb26358b844b969bc47d529e50d125",
       "version_major": 2,
       "version_minor": 0
      },
      "text/plain": [
       "  0%|          | 0/1 [00:00<?, ?it/s]"
      ]
     },
     "metadata": {},
     "output_type": "display_data"
    },
    {
     "name": "stdout",
     "output_type": "stream",
     "text": [
      "all_preds: tensor([0.1202, 0.2691, 0.1632, 0.3000, 0.3039], device='cuda:0')\n",
      "ID: 1/29 -- Number of found candidates so far: 5, searched: 5\n",
      "=========== Start the search for 1 Van Le\n",
      "all_candidates:  ['le roy' 'moore hal' 'robit' 'hà hồ' 'iutz']\n"
     ]
    },
    {
     "name": "stderr",
     "output_type": "stream",
     "text": [
      "                                                 \r"
     ]
    },
    {
     "data": {
      "application/vnd.jupyter.widget-view+json": {
       "model_id": "4125d76576734e2e94c7b1fab9c22fc5",
       "version_major": 2,
       "version_minor": 0
      },
      "text/plain": [
       "  0%|          | 0/1 [00:00<?, ?it/s]"
      ]
     },
     "metadata": {},
     "output_type": "display_data"
    },
    {
     "name": "stdout",
     "output_type": "stream",
     "text": [
      "all_preds: tensor([0.1352, 0.9655, 0.2485, 0.9736, 0.8865], device='cuda:0')\n",
      "ID: 2/29 -- Number of found candidates so far: 5, searched: 5\n",
      "=========== Start the search for 2 Hồ Ngọc Hà\n",
      "all_candidates:  ['hà hồ' 'kim chanjoong' 'chen qingqing' 'park jonathan'\n",
      " 'edwin calligan']\n"
     ]
    },
    {
     "name": "stderr",
     "output_type": "stream",
     "text": [
      "                                                 \r"
     ]
    },
    {
     "data": {
      "application/vnd.jupyter.widget-view+json": {
       "model_id": "77dc08cf1a7c4a19b9bef12088b28457",
       "version_major": 2,
       "version_minor": 0
      },
      "text/plain": [
       "  0%|          | 0/1 [00:00<?, ?it/s]"
      ]
     },
     "metadata": {},
     "output_type": "display_data"
    },
    {
     "name": "stdout",
     "output_type": "stream",
     "text": [
      "all_preds: tensor([0.3796, 0.1280, 0.1781, 0.0778, 0.4268], device='cuda:0')\n",
      "ID: 3/29 -- Number of found candidates so far: 2, searched: 5\n",
      "=========== Start the search for 3 Ho Ngoc Ha\n",
      "all_candidates:  ['hà hồ' 'le roy' 'il crocicchia' 'kim chanjoong' 'chen qingqing']\n"
     ]
    },
    {
     "name": "stderr",
     "output_type": "stream",
     "text": [
      "                                                 \r"
     ]
    },
    {
     "data": {
      "application/vnd.jupyter.widget-view+json": {
       "model_id": "16e05d6d1193442786eb3388c592daee",
       "version_major": 2,
       "version_minor": 0
      },
      "text/plain": [
       "  0%|          | 0/1 [00:00<?, ?it/s]"
      ]
     },
     "metadata": {},
     "output_type": "display_data"
    },
    {
     "name": "stdout",
     "output_type": "stream",
     "text": [
      "all_preds: tensor([0.0839, 0.0855, 0.5353, 0.7351, 0.0687], device='cuda:0')\n",
      "ID: 4/29 -- Number of found candidates so far: 1, searched: 5\n",
      "=========== Start the search for 4 Đàm Vĩnh Hưng\n",
      "all_candidates:  ['kim chanjoong' 'thomas sutton' 'max truninger' 'carmen dionyse'\n",
      " 'chen qingqing']\n"
     ]
    },
    {
     "name": "stderr",
     "output_type": "stream",
     "text": [
      "                                                 \r"
     ]
    },
    {
     "data": {
      "application/vnd.jupyter.widget-view+json": {
       "model_id": "f97ce3c3d1194e25a60df7a26ae1187a",
       "version_major": 2,
       "version_minor": 0
      },
      "text/plain": [
       "  0%|          | 0/1 [00:00<?, ?it/s]"
      ]
     },
     "metadata": {},
     "output_type": "display_data"
    },
    {
     "name": "stdout",
     "output_type": "stream",
     "text": [
      "all_preds: tensor([0.4382, 0.3017, 0.4183, 0.3024, 0.5455], device='cuda:0')\n",
      "ID: 5/29 -- Number of found candidates so far: 2, searched: 5\n",
      "=========== Start the search for 5 jutz karl\n",
      "all_candidates:  ['jutz carl' 'iutz' 'zwarts kim' 'john durand' 'john howell']\n"
     ]
    },
    {
     "name": "stderr",
     "output_type": "stream",
     "text": [
      "                                                 \r"
     ]
    },
    {
     "data": {
      "application/vnd.jupyter.widget-view+json": {
       "model_id": "6edf19293d384127bc085c968996d90e",
       "version_major": 2,
       "version_minor": 0
      },
      "text/plain": [
       "  0%|          | 0/1 [00:00<?, ?it/s]"
      ]
     },
     "metadata": {},
     "output_type": "display_data"
    },
    {
     "name": "stdout",
     "output_type": "stream",
     "text": [
      "all_preds: tensor([0.3057, 0.4372, 0.1091, 0.8138, 0.4082], device='cuda:0')\n",
      "ID: 6/29 -- Number of found candidates so far: 3, searched: 5\n",
      "=========== Start the search for 6 John Howell-Books\n",
      "all_candidates:  ['unknown welsh' 'john howell' 'emanoel araújo' 'allard joseph'\n",
      " 'paxton joseph']\n"
     ]
    },
    {
     "name": "stderr",
     "output_type": "stream",
     "text": [
      "                                                 \r"
     ]
    },
    {
     "data": {
      "application/vnd.jupyter.widget-view+json": {
       "model_id": "f727d257dd8249dabb1083d782c42aed",
       "version_major": 2,
       "version_minor": 0
      },
      "text/plain": [
       "  0%|          | 0/1 [00:00<?, ?it/s]"
      ]
     },
     "metadata": {},
     "output_type": "display_data"
    },
    {
     "name": "stdout",
     "output_type": "stream",
     "text": [
      "all_preds: tensor([0.5290, 0.4841, 0.3757, 0.4029, 0.2674], device='cuda:0')\n",
      "ID: 7/29 -- Number of found candidates so far: 3, searched: 5\n",
      "=========== Start the search for 7 Davidson Bruce Landon\n",
      "all_candidates:  ['guttuso aldo renato' 'edwin calligan' 'adams francis edward'\n",
      " 'adam callander' 'bruce davidson']\n"
     ]
    },
    {
     "name": "stderr",
     "output_type": "stream",
     "text": [
      "                                                 \r"
     ]
    },
    {
     "data": {
      "application/vnd.jupyter.widget-view+json": {
       "model_id": "dbdc11c186df4393a1746bba6e895ec5",
       "version_major": 2,
       "version_minor": 0
      },
      "text/plain": [
       "  0%|          | 0/1 [00:00<?, ?it/s]"
      ]
     },
     "metadata": {},
     "output_type": "display_data"
    },
    {
     "name": "stdout",
     "output_type": "stream",
     "text": [
      "all_preds: tensor([0.4536, 0.8054, 0.6381, 0.3931, 0.7029], device='cuda:0')\n",
      "ID: 8/29 -- Number of found candidates so far: 5, searched: 5\n",
      "=========== Start the search for 8 Allora Jennifer\n",
      "all_candidates:  ['emanoel araújo' 'emanuel araujo' 'adam callander' 'il crocicchia'\n",
      " 'carmen dionyse']\n"
     ]
    },
    {
     "name": "stderr",
     "output_type": "stream",
     "text": [
      "                                                 \r"
     ]
    },
    {
     "data": {
      "application/vnd.jupyter.widget-view+json": {
       "model_id": "feea297e6b7e4c39a8411294c557a643",
       "version_major": 2,
       "version_minor": 0
      },
      "text/plain": [
       "  0%|          | 0/1 [00:00<?, ?it/s]"
      ]
     },
     "metadata": {},
     "output_type": "display_data"
    },
    {
     "name": "stdout",
     "output_type": "stream",
     "text": [
      "all_preds: tensor([0.7378, 0.7164, 0.5674, 0.3306, 0.7648], device='cuda:0')\n",
      "ID: 9/29 -- Number of found candidates so far: 5, searched: 5\n",
      "=========== Start the search for 9 Allan Mulcahy\n",
      "all_candidates:  ['macconnel kim' 'il crocicchia' 'mulcahy david allan' 'adam callander'\n",
      " 'edwin calligan']\n"
     ]
    },
    {
     "name": "stderr",
     "output_type": "stream",
     "text": [
      "                                                 \r"
     ]
    },
    {
     "data": {
      "application/vnd.jupyter.widget-view+json": {
       "model_id": "604fbb7408a343bb81939964e8c09df2",
       "version_major": 2,
       "version_minor": 0
      },
      "text/plain": [
       "  0%|          | 0/1 [00:00<?, ?it/s]"
      ]
     },
     "metadata": {},
     "output_type": "display_data"
    },
    {
     "name": "stdout",
     "output_type": "stream",
     "text": [
      "all_preds: tensor([0.2768, 0.5552, 0.1576, 0.4501, 0.5296], device='cuda:0')\n",
      "ID: 10/29 -- Number of found candidates so far: 4, searched: 5\n",
      "=========== Start the search for 10 Math. Lempertz\n",
      "all_candidates:  ['lempertz math.' 'kunsthaus lempertz' 'bama james' 'emanoel araújo'\n",
      " 'bama james elliott']\n"
     ]
    },
    {
     "name": "stderr",
     "output_type": "stream",
     "text": [
      "                                                 \r"
     ]
    },
    {
     "data": {
      "application/vnd.jupyter.widget-view+json": {
       "model_id": "d82db2b5f67d406c82e2498f9573b358",
       "version_major": 2,
       "version_minor": 0
      },
      "text/plain": [
       "  0%|          | 0/1 [00:00<?, ?it/s]"
      ]
     },
     "metadata": {},
     "output_type": "display_data"
    },
    {
     "name": "stdout",
     "output_type": "stream",
     "text": [
      "all_preds: tensor([0.6758, 0.8150, 0.6162, 0.8611, 0.6610], device='cuda:0')\n",
      "ID: 11/29 -- Number of found candidates so far: 5, searched: 5\n",
      "=========== Start the search for 11 RPA\n",
      "all_candidates:  ['robit' 'hà hồ' 'le roy' 'iutz' 'cret paul']\n"
     ]
    },
    {
     "name": "stderr",
     "output_type": "stream",
     "text": [
      "                                                 \r"
     ]
    },
    {
     "data": {
      "application/vnd.jupyter.widget-view+json": {
       "model_id": "24dcc97b0dac4643ae8373f321cc484a",
       "version_major": 2,
       "version_minor": 0
      },
      "text/plain": [
       "  0%|          | 0/1 [00:00<?, ?it/s]"
      ]
     },
     "metadata": {},
     "output_type": "display_data"
    },
    {
     "name": "stdout",
     "output_type": "stream",
     "text": [
      "all_preds: tensor([0.2915, 0.6839, 0.1593, 0.9857, 0.9352], device='cuda:0')\n",
      "ID: 12/29 -- Number of found candidates so far: 5, searched: 5\n",
      "=========== Start the search for 12 Fred Hartsook\n",
      "all_candidates:  ['hartsook fred' 'hippokrátēs' 'oki takashi' 'brodsky isaak' 'ippocrate']\n"
     ]
    },
    {
     "name": "stderr",
     "output_type": "stream",
     "text": [
      "                                                 \r"
     ]
    },
    {
     "data": {
      "application/vnd.jupyter.widget-view+json": {
       "model_id": "038dc3fafb3749b9b238f4ad2c0f3f34",
       "version_major": 2,
       "version_minor": 0
      },
      "text/plain": [
       "  0%|          | 0/1 [00:00<?, ?it/s]"
      ]
     },
     "metadata": {},
     "output_type": "display_data"
    },
    {
     "name": "stdout",
     "output_type": "stream",
     "text": [
      "all_preds: tensor([0.0666, 0.1152, 0.4506, 0.0747, 0.2759], device='cuda:0')\n",
      "ID: 13/29 -- Number of found candidates so far: 5, searched: 5\n",
      "=========== Start the search for 13 Kim MacConnel\n",
      "all_candidates:  ['kim chanjoong' 'macconnel kim' 'bouman ole' 'adam callander'\n",
      " 'carmen dionyse']\n"
     ]
    },
    {
     "name": "stderr",
     "output_type": "stream",
     "text": [
      "                                                 \r"
     ]
    },
    {
     "data": {
      "application/vnd.jupyter.widget-view+json": {
       "model_id": "165fb85fd8c74e259232378a04e5e3d6",
       "version_major": 2,
       "version_minor": 0
      },
      "text/plain": [
       "  0%|          | 0/1 [00:00<?, ?it/s]"
      ]
     },
     "metadata": {},
     "output_type": "display_data"
    },
    {
     "name": "stdout",
     "output_type": "stream",
     "text": [
      "all_preds: tensor([0.1088, 0.0964, 0.4529, 0.0321, 0.0112], device='cuda:0')\n",
      "ID: 14/29 -- Number of found candidates so far: 5, searched: 5\n",
      "=========== Start the search for 14 Robit François-Antoine l'aîné\n",
      "all_candidates:  ['regional plan association' 'roy r. behrens' 'bruce davidson'\n",
      " 'william ernest braxton' 'carmen dionyse']\n"
     ]
    },
    {
     "name": "stderr",
     "output_type": "stream",
     "text": [
      "                                                 \r"
     ]
    },
    {
     "data": {
      "application/vnd.jupyter.widget-view+json": {
       "model_id": "1138a6fd660d49a5b35a60c529ca5ff3",
       "version_major": 2,
       "version_minor": 0
      },
      "text/plain": [
       "  0%|          | 0/1 [00:00<?, ?it/s]"
      ]
     },
     "metadata": {},
     "output_type": "display_data"
    },
    {
     "name": "stdout",
     "output_type": "stream",
     "text": [
      "all_preds: tensor([0.7036, 0.4771, 0.5651, 0.3933, 0.6018], device='cuda:0')\n",
      "ID: 15/29 -- Number of found candidates so far: 5, searched: 5\n",
      "=========== Start the search for 15 Paul Philippe Cret\n",
      "all_candidates:  ['adolph chevalier' 'laure tixier' 'ebel gerhild' 'lempertz math.'\n",
      " 'ippocrate']\n"
     ]
    },
    {
     "name": "stderr",
     "output_type": "stream",
     "text": [
      "                                                 \r"
     ]
    },
    {
     "data": {
      "application/vnd.jupyter.widget-view+json": {
       "model_id": "a346f7430fb045d18f977f64252a30bc",
       "version_major": 2,
       "version_minor": 0
      },
      "text/plain": [
       "  0%|          | 0/1 [00:00<?, ?it/s]"
      ]
     },
     "metadata": {},
     "output_type": "display_data"
    },
    {
     "name": "stdout",
     "output_type": "stream",
     "text": [
      "all_preds: tensor([0.2449, 0.1379, 0.2646, 0.7570, 0.3248], device='cuda:0')\n",
      "ID: 16/29 -- Number of found candidates so far: 5, searched: 5\n",
      "=========== Start the search for 16 Renato Guttuso\n",
      "all_candidates:  ['thomas sutton' 'guttuso renato' 'cret paul' 'carmen dionyse'\n",
      " 'max truninger']\n"
     ]
    },
    {
     "name": "stderr",
     "output_type": "stream",
     "text": [
      "                                                 \r"
     ]
    },
    {
     "data": {
      "application/vnd.jupyter.widget-view+json": {
       "model_id": "d07988e8504d499d955e02853fd3c425",
       "version_major": 2,
       "version_minor": 0
      },
      "text/plain": [
       "  0%|          | 0/1 [00:00<?, ?it/s]"
      ]
     },
     "metadata": {},
     "output_type": "display_data"
    },
    {
     "name": "stdout",
     "output_type": "stream",
     "text": [
      "all_preds: tensor([0.5956, 0.6176, 0.5928, 0.2914, 0.1661], device='cuda:0')\n",
      "ID: 17/29 -- Number of found candidates so far: 0, searched: 5\n",
      "=========== Start the search for 17 James Elliott Bama\n",
      "all_candidates:  ['bama james elliott' 'lempertz math.' 'shelby lee adams'\n",
      " 'kunsthaus lempertz' 'adam wolpert']\n"
     ]
    },
    {
     "name": "stderr",
     "output_type": "stream",
     "text": [
      "                                                 \r"
     ]
    },
    {
     "data": {
      "application/vnd.jupyter.widget-view+json": {
       "model_id": "04e53633f23248bca98f469b219e2c17",
       "version_major": 2,
       "version_minor": 0
      },
      "text/plain": [
       "  0%|          | 0/1 [00:00<?, ?it/s]"
      ]
     },
     "metadata": {},
     "output_type": "display_data"
    },
    {
     "name": "stdout",
     "output_type": "stream",
     "text": [
      "all_preds: tensor([0.6969, 0.6624, 0.3377, 0.5314, 0.6070], device='cuda:0')\n",
      "ID: 18/29 -- Number of found candidates so far: 5, searched: 5\n",
      "=========== Start the search for 18 היפוקראטס\n",
      "all_candidates:  [\"אלורה ג'ניפר\" 'hà hồ' 'ippocrate' 'le roy' 'robit']\n"
     ]
    },
    {
     "name": "stderr",
     "output_type": "stream",
     "text": [
      "                                                 \r"
     ]
    },
    {
     "data": {
      "application/vnd.jupyter.widget-view+json": {
       "model_id": "563caf4e75ea449f87c7577f6def6863",
       "version_major": 2,
       "version_minor": 0
      },
      "text/plain": [
       "  0%|          | 0/1 [00:00<?, ?it/s]"
      ]
     },
     "metadata": {},
     "output_type": "display_data"
    },
    {
     "name": "stdout",
     "output_type": "stream",
     "text": [
      "all_preds: tensor([0.3083, 0.9587, 0.4616, 0.0318, 0.5161], device='cuda:0')\n",
      "ID: 19/29 -- Number of found candidates so far: 1, searched: 5\n",
      "=========== Start the search for 19 Crocchia Girolamo\n",
      "all_candidates:  ['macconnel kim r.' 'macconnel kim' 'emanoel araújo' 'il crocicchia'\n",
      " 'adam callander']\n"
     ]
    },
    {
     "name": "stderr",
     "output_type": "stream",
     "text": [
      "                                                 \r"
     ]
    },
    {
     "data": {
      "application/vnd.jupyter.widget-view+json": {
       "model_id": "ee7a0f534ad64545b6a664708b4497de",
       "version_major": 2,
       "version_minor": 0
      },
      "text/plain": [
       "  0%|          | 0/1 [00:00<?, ?it/s]"
      ]
     },
     "metadata": {},
     "output_type": "display_data"
    },
    {
     "name": "stdout",
     "output_type": "stream",
     "text": [
      "all_preds: tensor([0.2054, 0.1423, 0.1140, 0.1811, 0.0518], device='cuda:0')\n",
      "ID: 20/29 -- Number of found candidates so far: 4, searched: 5\n",
      "TOTAL TIME: 8.305619239807129\n"
     ]
    }
   ],
   "source": [
    "from DeezyMatch import candidate_ranker_trans\n",
    "\n",
    "# Select candidates based on L2-norm distance (aka faiss distance):\n",
    "# find candidates from candidate_scenario \n",
    "# for queries specified in query_scenario\n",
    "candidates_pd = \\\n",
    "    candidate_ranker_trans(model_name=\"finetuned_trans_09052022\",\n",
    "                     query_scenario=\"./combined/queries_ULAN\",\n",
    "                     candidate_scenario=\"./combined/candidates_ULAN\", \n",
    "                     ranking_metric=\"cosine\", \n",
    "                     selection_threshold=0.5, \n",
    "                     num_candidates=2, \n",
    "                     search_size=5, \n",
    "                     output_path=\"ranker_results/ULAN_candidates_deezymatch\", \n",
    "                     pretrained_model_path=\"./models/finetuned_trans_09052022/finetuned_trans_09052022.model\", \n",
    "                     pretrained_vocab_path=\"./models/finetuned_trans_09052022/finetuned_trans_09052022.vocab\", \n",
    "                     number_test_rows=20)"
   ]
  },
  {
   "cell_type": "code",
   "execution_count": 20,
   "metadata": {
    "scrolled": true
   },
   "outputs": [
    {
     "data": {
      "text/html": [
       "<div>\n",
       "<style scoped>\n",
       "    .dataframe tbody tr th:only-of-type {\n",
       "        vertical-align: middle;\n",
       "    }\n",
       "\n",
       "    .dataframe tbody tr th {\n",
       "        vertical-align: top;\n",
       "    }\n",
       "\n",
       "    .dataframe thead th {\n",
       "        text-align: right;\n",
       "    }\n",
       "</style>\n",
       "<table border=\"1\" class=\"dataframe\">\n",
       "  <thead>\n",
       "    <tr style=\"text-align: right;\">\n",
       "      <th></th>\n",
       "      <th>query</th>\n",
       "      <th>pred_score</th>\n",
       "      <th>1-pred_score</th>\n",
       "      <th>faiss_distance</th>\n",
       "      <th>cosine_dist</th>\n",
       "      <th>candidate_original_ids</th>\n",
       "      <th>query_original_id</th>\n",
       "      <th>num_all_searches</th>\n",
       "    </tr>\n",
       "    <tr>\n",
       "      <th>id</th>\n",
       "      <th></th>\n",
       "      <th></th>\n",
       "      <th></th>\n",
       "      <th></th>\n",
       "      <th></th>\n",
       "      <th></th>\n",
       "      <th></th>\n",
       "      <th></th>\n",
       "    </tr>\n",
       "  </thead>\n",
       "  <tbody>\n",
       "    <tr>\n",
       "      <th>0</th>\n",
       "      <td>Van Le Tran Truc</td>\n",
       "      <td>{'Le Tran Truc Van': 0.1202, 'Macclure Victor'...</td>\n",
       "      <td>{'Le Tran Truc Van': 0.8798, 'Macclure Victor'...</td>\n",
       "      <td>{'Le Tran Truc Van': 6.4978, 'Macclure Victor'...</td>\n",
       "      <td>{'Le Tran Truc Van': 0.1866, 'Macclure Victor'...</td>\n",
       "      <td>{'Le Tran Truc Van': 2, 'Macclure Victor': 33}</td>\n",
       "      <td>0</td>\n",
       "      <td>5</td>\n",
       "    </tr>\n",
       "    <tr>\n",
       "      <th>1</th>\n",
       "      <td>Van Le</td>\n",
       "      <td>{'Le Roy': 0.1352, 'Moore Hal': 0.9655}</td>\n",
       "      <td>{'Le Roy': 0.8648, 'Moore Hal': 0.034499999999...</td>\n",
       "      <td>{'Le Roy': 8.1601, 'Moore Hal': 9.4413}</td>\n",
       "      <td>{'Le Roy': 0.3733, 'Moore Hal': 0.4197}</td>\n",
       "      <td>{'Le Roy': 37, 'Moore Hal': 28}</td>\n",
       "      <td>1</td>\n",
       "      <td>5</td>\n",
       "    </tr>\n",
       "    <tr>\n",
       "      <th>2</th>\n",
       "      <td>Hồ Ngọc Hà</td>\n",
       "      <td>{'Kim ChanJoong': 0.128, 'Hà Hồ': 0.3796}</td>\n",
       "      <td>{'Kim ChanJoong': 0.872, 'Hà Hồ': 0.6204000000...</td>\n",
       "      <td>{'Kim ChanJoong': 9.6501, 'Hà Hồ': 9.2395}</td>\n",
       "      <td>{'Kim ChanJoong': 0.4294, 'Hà Hồ': 0.4784}</td>\n",
       "      <td>{'Kim ChanJoong': 56, 'Hà Hồ': 0}</td>\n",
       "      <td>2</td>\n",
       "      <td>5</td>\n",
       "    </tr>\n",
       "    <tr>\n",
       "      <th>3</th>\n",
       "      <td>Ho Ngoc Ha</td>\n",
       "      <td>{'Hà Hồ': 0.0839}</td>\n",
       "      <td>{'Hà Hồ': 0.9161}</td>\n",
       "      <td>{'Hà Hồ': 6.067}</td>\n",
       "      <td>{'Hà Hồ': 0.307}</td>\n",
       "      <td>{'Hà Hồ': 0}</td>\n",
       "      <td>3</td>\n",
       "      <td>5</td>\n",
       "    </tr>\n",
       "    <tr>\n",
       "      <th>4</th>\n",
       "      <td>Đàm Vĩnh Hưng</td>\n",
       "      <td>{'Kim ChanJoong': 0.4382, 'Thomas Sutton': 0.3...</td>\n",
       "      <td>{'Kim ChanJoong': 0.5618000000000001, 'Thomas ...</td>\n",
       "      <td>{'Kim ChanJoong': 10.0206, 'Thomas Sutton': 11...</td>\n",
       "      <td>{'Kim ChanJoong': 0.3922, 'Thomas Sutton': 0.4...</td>\n",
       "      <td>{'Kim ChanJoong': 56, 'Thomas Sutton': 40}</td>\n",
       "      <td>4</td>\n",
       "      <td>5</td>\n",
       "    </tr>\n",
       "    <tr>\n",
       "      <th>5</th>\n",
       "      <td>jutz karl</td>\n",
       "      <td>{'Jutz Carl': 0.3057, 'Iutz': 0.4372}</td>\n",
       "      <td>{'Jutz Carl': 0.6942999999999999, 'Iutz': 0.5628}</td>\n",
       "      <td>{'Jutz Carl': 3.9343, 'Iutz': 11.2349}</td>\n",
       "      <td>{'Jutz Carl': 0.1603, 'Iutz': 0.4507}</td>\n",
       "      <td>{'Jutz Carl': 3, 'Iutz': 4}</td>\n",
       "      <td>5</td>\n",
       "      <td>5</td>\n",
       "    </tr>\n",
       "    <tr>\n",
       "      <th>6</th>\n",
       "      <td>John Howell-Books</td>\n",
       "      <td>{'unknown Welsh': 0.529, 'John Howell': 0.4841}</td>\n",
       "      <td>{'unknown Welsh': 0.471, 'John Howell': 0.5159}</td>\n",
       "      <td>{'unknown Welsh': 8.5938, 'John Howell': 8.969}</td>\n",
       "      <td>{'unknown Welsh': 0.259, 'John Howell': 0.2888}</td>\n",
       "      <td>{'unknown Welsh': 67, 'John Howell': 5}</td>\n",
       "      <td>6</td>\n",
       "      <td>5</td>\n",
       "    </tr>\n",
       "    <tr>\n",
       "      <th>7</th>\n",
       "      <td>Davidson Bruce Landon</td>\n",
       "      <td>{'Guttuso Aldo Renato': 0.4536, 'Adams Francis...</td>\n",
       "      <td>{'Guttuso Aldo Renato': 0.5464, 'Adams Francis...</td>\n",
       "      <td>{'Guttuso Aldo Renato': 11.9695, 'Adams Franci...</td>\n",
       "      <td>{'Guttuso Aldo Renato': 0.3241, 'Adams Francis...</td>\n",
       "      <td>{'Guttuso Aldo Renato': 42, 'Adams Francis Edw...</td>\n",
       "      <td>7</td>\n",
       "      <td>5</td>\n",
       "    </tr>\n",
       "    <tr>\n",
       "      <th>8</th>\n",
       "      <td>Allora Jennifer</td>\n",
       "      <td>{'Emanoel Araújo': 0.7378, 'Emanuel Araujo': 0...</td>\n",
       "      <td>{'Emanoel Araújo': 0.2622, 'Emanuel Araujo': 0...</td>\n",
       "      <td>{'Emanoel Araújo': 10.5977, 'Emanuel Araujo': ...</td>\n",
       "      <td>{'Emanoel Araújo': 0.3168, 'Emanuel Araujo': 0...</td>\n",
       "      <td>{'Emanoel Araújo': 26, 'Emanuel Araujo': 25}</td>\n",
       "      <td>8</td>\n",
       "      <td>5</td>\n",
       "    </tr>\n",
       "    <tr>\n",
       "      <th>9</th>\n",
       "      <td>Allan Mulcahy</td>\n",
       "      <td>{'Mulcahy David Allan': 0.1576, 'MacConnel Kim...</td>\n",
       "      <td>{'Mulcahy David Allan': 0.8424, 'MacConnel Kim...</td>\n",
       "      <td>{'Mulcahy David Allan': 12.855, 'MacConnel Kim...</td>\n",
       "      <td>{'Mulcahy David Allan': 0.3902, 'MacConnel Kim...</td>\n",
       "      <td>{'Mulcahy David Allan': 8, 'MacConnel Kim': 17}</td>\n",
       "      <td>9</td>\n",
       "      <td>5</td>\n",
       "    </tr>\n",
       "    <tr>\n",
       "      <th>10</th>\n",
       "      <td>Math. Lempertz</td>\n",
       "      <td>{'Lempertz Math.': 0.6758, 'Kunsthaus Lempertz...</td>\n",
       "      <td>{'Lempertz Math.': 0.32420000000000004, 'Kunst...</td>\n",
       "      <td>{'Lempertz Math.': 5.0621, 'Kunsthaus Lempertz...</td>\n",
       "      <td>{'Lempertz Math.': 0.1645, 'Kunsthaus Lempertz...</td>\n",
       "      <td>{'Lempertz Math.': 12, 'Kunsthaus Lempertz': 11}</td>\n",
       "      <td>10</td>\n",
       "      <td>5</td>\n",
       "    </tr>\n",
       "    <tr>\n",
       "      <th>11</th>\n",
       "      <td>RPA</td>\n",
       "      <td>{'Robit': 0.2915, 'Le Roy': 0.1593}</td>\n",
       "      <td>{'Robit': 0.7085, 'Le Roy': 0.8407}</td>\n",
       "      <td>{'Robit': 7.8985, 'Le Roy': 9.5432}</td>\n",
       "      <td>{'Robit': 0.3347, 'Le Roy': 0.4067}</td>\n",
       "      <td>{'Robit': 27, 'Le Roy': 37}</td>\n",
       "      <td>11</td>\n",
       "      <td>5</td>\n",
       "    </tr>\n",
       "    <tr>\n",
       "      <th>12</th>\n",
       "      <td>Fred Hartsook</td>\n",
       "      <td>{'Hartsook Fred': 0.0666, 'Hippokrátēs': 0.1152}</td>\n",
       "      <td>{'Hartsook Fred': 0.9334, 'Hippokrátēs': 0.8848}</td>\n",
       "      <td>{'Hartsook Fred': 8.9021, 'Hippokrátēs': 9.5588}</td>\n",
       "      <td>{'Hartsook Fred': 0.3038, 'Hippokrátēs': 0.3215}</td>\n",
       "      <td>{'Hartsook Fred': 14, 'Hippokrátēs': 46}</td>\n",
       "      <td>12</td>\n",
       "      <td>5</td>\n",
       "    </tr>\n",
       "    <tr>\n",
       "      <th>13</th>\n",
       "      <td>Kim MacConnel</td>\n",
       "      <td>{'Kim ChanJoong': 0.1088, 'MacConnel Kim': 0.0...</td>\n",
       "      <td>{'Kim ChanJoong': 0.8912, 'MacConnel Kim': 0.9...</td>\n",
       "      <td>{'Kim ChanJoong': 7.49, 'MacConnel Kim': 8.6466}</td>\n",
       "      <td>{'Kim ChanJoong': 0.3076, 'MacConnel Kim': 0.339}</td>\n",
       "      <td>{'Kim ChanJoong': 56, 'MacConnel Kim': 17}</td>\n",
       "      <td>13</td>\n",
       "      <td>5</td>\n",
       "    </tr>\n",
       "    <tr>\n",
       "      <th>14</th>\n",
       "      <td>Robit François-Antoine l'aîné</td>\n",
       "      <td>{'Regional Plan Association': 0.7036, 'William...</td>\n",
       "      <td>{'Regional Plan Association': 0.2964, 'William...</td>\n",
       "      <td>{'Regional Plan Association': 8.0809, 'William...</td>\n",
       "      <td>{'Regional Plan Association': 0.1799, 'William...</td>\n",
       "      <td>{'Regional Plan Association': 13, 'William Ern...</td>\n",
       "      <td>14</td>\n",
       "      <td>5</td>\n",
       "    </tr>\n",
       "    <tr>\n",
       "      <th>15</th>\n",
       "      <td>Paul Philippe Cret</td>\n",
       "      <td>{'Adolph Chevalier': 0.2449, 'Laure Tixier': 0...</td>\n",
       "      <td>{'Adolph Chevalier': 0.7551, 'Laure Tixier': 0...</td>\n",
       "      <td>{'Adolph Chevalier': 8.1034, 'Laure Tixier': 1...</td>\n",
       "      <td>{'Adolph Chevalier': 0.2196, 'Laure Tixier': 0...</td>\n",
       "      <td>{'Adolph Chevalier': 61, 'Laure Tixier': 15}</td>\n",
       "      <td>15</td>\n",
       "      <td>5</td>\n",
       "    </tr>\n",
       "    <tr>\n",
       "      <th>16</th>\n",
       "      <td>Renato Guttuso</td>\n",
       "      <td>{}</td>\n",
       "      <td>{}</td>\n",
       "      <td>{}</td>\n",
       "      <td>{}</td>\n",
       "      <td>{}</td>\n",
       "      <td>16</td>\n",
       "      <td>5</td>\n",
       "    </tr>\n",
       "    <tr>\n",
       "      <th>17</th>\n",
       "      <td>James Elliott Bama</td>\n",
       "      <td>{'Bama James Elliott': 0.6969, 'Kunsthaus Lemp...</td>\n",
       "      <td>{'Bama James Elliott': 0.30310000000000004, 'K...</td>\n",
       "      <td>{'Bama James Elliott': 7.3487, 'Kunsthaus Lemp...</td>\n",
       "      <td>{'Bama James Elliott': 0.1988, 'Kunsthaus Lemp...</td>\n",
       "      <td>{'Bama James Elliott': 43, 'Kunsthaus Lempertz...</td>\n",
       "      <td>17</td>\n",
       "      <td>5</td>\n",
       "    </tr>\n",
       "    <tr>\n",
       "      <th>18</th>\n",
       "      <td>היפוקראטס</td>\n",
       "      <td>{'אלורה ג'ניפר': 0.3083}</td>\n",
       "      <td>{'אלורה ג'ניפר': 0.6917}</td>\n",
       "      <td>{'אלורה ג'ניפר': 5.2342}</td>\n",
       "      <td>{'אלורה ג'ניפר': 0.1573}</td>\n",
       "      <td>{'אלורה ג'ניפר': 7}</td>\n",
       "      <td>18</td>\n",
       "      <td>5</td>\n",
       "    </tr>\n",
       "    <tr>\n",
       "      <th>19</th>\n",
       "      <td>Crocchia Girolamo</td>\n",
       "      <td>{'Macconnel Kim R.': 0.2054, 'Emanoel Araújo':...</td>\n",
       "      <td>{'Macconnel Kim R.': 0.7946, 'Emanoel Araújo':...</td>\n",
       "      <td>{'Macconnel Kim R.': 11.301, 'Emanoel Araújo':...</td>\n",
       "      <td>{'Macconnel Kim R.': 0.3198, 'Emanoel Araújo':...</td>\n",
       "      <td>{'Macconnel Kim R.': 18, 'Emanoel Araújo': 26}</td>\n",
       "      <td>19</td>\n",
       "      <td>5</td>\n",
       "    </tr>\n",
       "  </tbody>\n",
       "</table>\n",
       "</div>"
      ],
      "text/plain": [
       "                            query  \\\n",
       "id                                  \n",
       "0                Van Le Tran Truc   \n",
       "1                          Van Le   \n",
       "2                      Hồ Ngọc Hà   \n",
       "3                      Ho Ngoc Ha   \n",
       "4                   Đàm Vĩnh Hưng   \n",
       "5                       jutz karl   \n",
       "6               John Howell-Books   \n",
       "7           Davidson Bruce Landon   \n",
       "8                 Allora Jennifer   \n",
       "9                   Allan Mulcahy   \n",
       "10                 Math. Lempertz   \n",
       "11                            RPA   \n",
       "12                  Fred Hartsook   \n",
       "13                  Kim MacConnel   \n",
       "14  Robit François-Antoine l'aîné   \n",
       "15             Paul Philippe Cret   \n",
       "16                 Renato Guttuso   \n",
       "17             James Elliott Bama   \n",
       "18                      היפוקראטס   \n",
       "19              Crocchia Girolamo   \n",
       "\n",
       "                                           pred_score  \\\n",
       "id                                                      \n",
       "0   {'Le Tran Truc Van': 0.1202, 'Macclure Victor'...   \n",
       "1             {'Le Roy': 0.1352, 'Moore Hal': 0.9655}   \n",
       "2           {'Kim ChanJoong': 0.128, 'Hà Hồ': 0.3796}   \n",
       "3                                   {'Hà Hồ': 0.0839}   \n",
       "4   {'Kim ChanJoong': 0.4382, 'Thomas Sutton': 0.3...   \n",
       "5               {'Jutz Carl': 0.3057, 'Iutz': 0.4372}   \n",
       "6     {'unknown Welsh': 0.529, 'John Howell': 0.4841}   \n",
       "7   {'Guttuso Aldo Renato': 0.4536, 'Adams Francis...   \n",
       "8   {'Emanoel Araújo': 0.7378, 'Emanuel Araujo': 0...   \n",
       "9   {'Mulcahy David Allan': 0.1576, 'MacConnel Kim...   \n",
       "10  {'Lempertz Math.': 0.6758, 'Kunsthaus Lempertz...   \n",
       "11                {'Robit': 0.2915, 'Le Roy': 0.1593}   \n",
       "12   {'Hartsook Fred': 0.0666, 'Hippokrátēs': 0.1152}   \n",
       "13  {'Kim ChanJoong': 0.1088, 'MacConnel Kim': 0.0...   \n",
       "14  {'Regional Plan Association': 0.7036, 'William...   \n",
       "15  {'Adolph Chevalier': 0.2449, 'Laure Tixier': 0...   \n",
       "16                                                 {}   \n",
       "17  {'Bama James Elliott': 0.6969, 'Kunsthaus Lemp...   \n",
       "18                           {'אלורה ג'ניפר': 0.3083}   \n",
       "19  {'Macconnel Kim R.': 0.2054, 'Emanoel Araújo':...   \n",
       "\n",
       "                                         1-pred_score  \\\n",
       "id                                                      \n",
       "0   {'Le Tran Truc Van': 0.8798, 'Macclure Victor'...   \n",
       "1   {'Le Roy': 0.8648, 'Moore Hal': 0.034499999999...   \n",
       "2   {'Kim ChanJoong': 0.872, 'Hà Hồ': 0.6204000000...   \n",
       "3                                   {'Hà Hồ': 0.9161}   \n",
       "4   {'Kim ChanJoong': 0.5618000000000001, 'Thomas ...   \n",
       "5   {'Jutz Carl': 0.6942999999999999, 'Iutz': 0.5628}   \n",
       "6     {'unknown Welsh': 0.471, 'John Howell': 0.5159}   \n",
       "7   {'Guttuso Aldo Renato': 0.5464, 'Adams Francis...   \n",
       "8   {'Emanoel Araújo': 0.2622, 'Emanuel Araujo': 0...   \n",
       "9   {'Mulcahy David Allan': 0.8424, 'MacConnel Kim...   \n",
       "10  {'Lempertz Math.': 0.32420000000000004, 'Kunst...   \n",
       "11                {'Robit': 0.7085, 'Le Roy': 0.8407}   \n",
       "12   {'Hartsook Fred': 0.9334, 'Hippokrátēs': 0.8848}   \n",
       "13  {'Kim ChanJoong': 0.8912, 'MacConnel Kim': 0.9...   \n",
       "14  {'Regional Plan Association': 0.2964, 'William...   \n",
       "15  {'Adolph Chevalier': 0.7551, 'Laure Tixier': 0...   \n",
       "16                                                 {}   \n",
       "17  {'Bama James Elliott': 0.30310000000000004, 'K...   \n",
       "18                           {'אלורה ג'ניפר': 0.6917}   \n",
       "19  {'Macconnel Kim R.': 0.7946, 'Emanoel Araújo':...   \n",
       "\n",
       "                                       faiss_distance  \\\n",
       "id                                                      \n",
       "0   {'Le Tran Truc Van': 6.4978, 'Macclure Victor'...   \n",
       "1             {'Le Roy': 8.1601, 'Moore Hal': 9.4413}   \n",
       "2          {'Kim ChanJoong': 9.6501, 'Hà Hồ': 9.2395}   \n",
       "3                                    {'Hà Hồ': 6.067}   \n",
       "4   {'Kim ChanJoong': 10.0206, 'Thomas Sutton': 11...   \n",
       "5              {'Jutz Carl': 3.9343, 'Iutz': 11.2349}   \n",
       "6     {'unknown Welsh': 8.5938, 'John Howell': 8.969}   \n",
       "7   {'Guttuso Aldo Renato': 11.9695, 'Adams Franci...   \n",
       "8   {'Emanoel Araújo': 10.5977, 'Emanuel Araujo': ...   \n",
       "9   {'Mulcahy David Allan': 12.855, 'MacConnel Kim...   \n",
       "10  {'Lempertz Math.': 5.0621, 'Kunsthaus Lempertz...   \n",
       "11                {'Robit': 7.8985, 'Le Roy': 9.5432}   \n",
       "12   {'Hartsook Fred': 8.9021, 'Hippokrátēs': 9.5588}   \n",
       "13   {'Kim ChanJoong': 7.49, 'MacConnel Kim': 8.6466}   \n",
       "14  {'Regional Plan Association': 8.0809, 'William...   \n",
       "15  {'Adolph Chevalier': 8.1034, 'Laure Tixier': 1...   \n",
       "16                                                 {}   \n",
       "17  {'Bama James Elliott': 7.3487, 'Kunsthaus Lemp...   \n",
       "18                           {'אלורה ג'ניפר': 5.2342}   \n",
       "19  {'Macconnel Kim R.': 11.301, 'Emanoel Araújo':...   \n",
       "\n",
       "                                          cosine_dist  \\\n",
       "id                                                      \n",
       "0   {'Le Tran Truc Van': 0.1866, 'Macclure Victor'...   \n",
       "1             {'Le Roy': 0.3733, 'Moore Hal': 0.4197}   \n",
       "2          {'Kim ChanJoong': 0.4294, 'Hà Hồ': 0.4784}   \n",
       "3                                    {'Hà Hồ': 0.307}   \n",
       "4   {'Kim ChanJoong': 0.3922, 'Thomas Sutton': 0.4...   \n",
       "5               {'Jutz Carl': 0.1603, 'Iutz': 0.4507}   \n",
       "6     {'unknown Welsh': 0.259, 'John Howell': 0.2888}   \n",
       "7   {'Guttuso Aldo Renato': 0.3241, 'Adams Francis...   \n",
       "8   {'Emanoel Araújo': 0.3168, 'Emanuel Araujo': 0...   \n",
       "9   {'Mulcahy David Allan': 0.3902, 'MacConnel Kim...   \n",
       "10  {'Lempertz Math.': 0.1645, 'Kunsthaus Lempertz...   \n",
       "11                {'Robit': 0.3347, 'Le Roy': 0.4067}   \n",
       "12   {'Hartsook Fred': 0.3038, 'Hippokrátēs': 0.3215}   \n",
       "13  {'Kim ChanJoong': 0.3076, 'MacConnel Kim': 0.339}   \n",
       "14  {'Regional Plan Association': 0.1799, 'William...   \n",
       "15  {'Adolph Chevalier': 0.2196, 'Laure Tixier': 0...   \n",
       "16                                                 {}   \n",
       "17  {'Bama James Elliott': 0.1988, 'Kunsthaus Lemp...   \n",
       "18                           {'אלורה ג'ניפר': 0.1573}   \n",
       "19  {'Macconnel Kim R.': 0.3198, 'Emanoel Araújo':...   \n",
       "\n",
       "                               candidate_original_ids  query_original_id  \\\n",
       "id                                                                         \n",
       "0      {'Le Tran Truc Van': 2, 'Macclure Victor': 33}                  0   \n",
       "1                     {'Le Roy': 37, 'Moore Hal': 28}                  1   \n",
       "2                   {'Kim ChanJoong': 56, 'Hà Hồ': 0}                  2   \n",
       "3                                        {'Hà Hồ': 0}                  3   \n",
       "4          {'Kim ChanJoong': 56, 'Thomas Sutton': 40}                  4   \n",
       "5                         {'Jutz Carl': 3, 'Iutz': 4}                  5   \n",
       "6             {'unknown Welsh': 67, 'John Howell': 5}                  6   \n",
       "7   {'Guttuso Aldo Renato': 42, 'Adams Francis Edw...                  7   \n",
       "8        {'Emanoel Araújo': 26, 'Emanuel Araujo': 25}                  8   \n",
       "9     {'Mulcahy David Allan': 8, 'MacConnel Kim': 17}                  9   \n",
       "10   {'Lempertz Math.': 12, 'Kunsthaus Lempertz': 11}                 10   \n",
       "11                        {'Robit': 27, 'Le Roy': 37}                 11   \n",
       "12           {'Hartsook Fred': 14, 'Hippokrátēs': 46}                 12   \n",
       "13         {'Kim ChanJoong': 56, 'MacConnel Kim': 17}                 13   \n",
       "14  {'Regional Plan Association': 13, 'William Ern...                 14   \n",
       "15       {'Adolph Chevalier': 61, 'Laure Tixier': 15}                 15   \n",
       "16                                                 {}                 16   \n",
       "17  {'Bama James Elliott': 43, 'Kunsthaus Lempertz...                 17   \n",
       "18                                {'אלורה ג'ניפר': 7}                 18   \n",
       "19     {'Macconnel Kim R.': 18, 'Emanoel Araújo': 26}                 19   \n",
       "\n",
       "    num_all_searches  \n",
       "id                    \n",
       "0                  5  \n",
       "1                  5  \n",
       "2                  5  \n",
       "3                  5  \n",
       "4                  5  \n",
       "5                  5  \n",
       "6                  5  \n",
       "7                  5  \n",
       "8                  5  \n",
       "9                  5  \n",
       "10                 5  \n",
       "11                 5  \n",
       "12                 5  \n",
       "13                 5  \n",
       "14                 5  \n",
       "15                 5  \n",
       "16                 5  \n",
       "17                 5  \n",
       "18                 5  \n",
       "19                 5  "
      ]
     },
     "execution_count": 20,
     "metadata": {},
     "output_type": "execute_result"
    }
   ],
   "source": [
    "candidates_pd"
   ]
  },
  {
   "cell_type": "markdown",
   "metadata": {},
   "source": [
    "## Candidate ranking on-the-fly"
   ]
  },
  {
   "cell_type": "code",
   "execution_count": null,
   "metadata": {
    "scrolled": true
   },
   "outputs": [],
   "source": [
    "from DeezyMatch import candidate_ranker\n",
    "\n",
    "# Ranking on-the-fly\n",
    "# find candidates from candidate_scenario \n",
    "# for queries specified by the `query` argument\n",
    "candidates_pd = \\\n",
    "    candidate_ranker(candidate_scenario=\"./combined/candidates_test\",\n",
    "                     query=[\"DeezyMatch\", \"kasra\", \"fede\", \"mariona\"],\n",
    "                     ranking_metric=\"faiss\", \n",
    "                     selection_threshold=5., \n",
    "                     num_candidates=1, \n",
    "                     search_size=100, \n",
    "                     output_path=\"ranker_results/test_candidates_deezymatch_on_the_fly\", \n",
    "                     pretrained_model_path=\"./models/finetuned_test001/finetuned_test001.model\", \n",
    "                     pretrained_vocab_path=\"./models/finetuned_test001/finetuned_test001.vocab\", \n",
    "                     number_test_rows=20)"
   ]
  },
  {
   "cell_type": "code",
   "execution_count": null,
   "metadata": {},
   "outputs": [],
   "source": [
    "candidates_pd"
   ]
  },
  {
   "cell_type": "markdown",
   "metadata": {},
   "source": [
    "### The candidate ranker can be initialised, to be used multiple times, by running:"
   ]
  },
  {
   "cell_type": "code",
   "execution_count": null,
   "metadata": {},
   "outputs": [],
   "source": [
    "from DeezyMatch import candidate_ranker_init\n",
    "\n",
    "# initializing candidate_ranker via candidate_ranker_init\n",
    "myranker = candidate_ranker_init(candidate_scenario=\"./combined/candidates_test\",\n",
    "                                 query=[\"DeezyMatch\", \"kasra\", \"fede\", \"mariona\"],\n",
    "                                 ranking_metric=\"faiss\", \n",
    "                                 selection_threshold=5., \n",
    "                                 num_candidates=1, \n",
    "                                 search_size=100, \n",
    "                                 output_path=\"ranker_results/test_candidates_deezymatch_on_the_fly\", \n",
    "                                 pretrained_model_path=\"./models/finetuned_test001/finetuned_test001.model\", \n",
    "                                 pretrained_vocab_path=\"./models/finetuned_test001/finetuned_test001.vocab\", \n",
    "                                 number_test_rows=20)"
   ]
  },
  {
   "cell_type": "code",
   "execution_count": null,
   "metadata": {},
   "outputs": [],
   "source": [
    "# print the content of myranker by:\n",
    "print(myranker)"
   ]
  },
  {
   "cell_type": "code",
   "execution_count": null,
   "metadata": {
    "scrolled": true
   },
   "outputs": [],
   "source": [
    "# To rank the queries:\n",
    "myranker.rank()"
   ]
  },
  {
   "cell_type": "code",
   "execution_count": null,
   "metadata": {},
   "outputs": [],
   "source": [
    "#The results are stored in:\n",
    "myranker.output"
   ]
  },
  {
   "cell_type": "markdown",
   "metadata": {},
   "source": [
    "### Change the queries"
   ]
  },
  {
   "cell_type": "code",
   "execution_count": null,
   "metadata": {},
   "outputs": [],
   "source": [
    "myranker.set_query(query=[\"khan\", \"feng\", \"cheng\"])"
   ]
  },
  {
   "cell_type": "code",
   "execution_count": null,
   "metadata": {
    "scrolled": true
   },
   "outputs": [],
   "source": [
    "# To rank the queries:\n",
    "myranker.rank()"
   ]
  },
  {
   "cell_type": "code",
   "execution_count": null,
   "metadata": {},
   "outputs": [],
   "source": [
    "#The results are stored in:\n",
    "myranker.output"
   ]
  },
  {
   "cell_type": "code",
   "execution_count": 6,
   "metadata": {},
   "outputs": [],
   "source": [
    "candidate = set()\n",
    "with open(\"./dataset/finetuned-test.txt\",\"r\", encoding=\"utf-8\") as fin:\n",
    "    i = 0\n",
    "    while(i < 1000):\n",
    "        line = fin.readline()\n",
    "        if not line:\n",
    "            break\n",
    "        token = line.split(\"\\t\")\n",
    "        candidate.add(token[1])\n",
    "        i = i + 1\n",
    "\n",
    "with open(\"./dataset/dataset-ULAN1-candidates.txt\", \"w\", encoding=\"utf-8\") as fout:\n",
    "    for cand in candidate:\n",
    "        fout.write(cand)\n",
    "        fout.write(\"\\n\")"
   ]
  },
  {
   "cell_type": "code",
   "execution_count": null,
   "metadata": {},
   "outputs": [],
   "source": []
  }
 ],
 "metadata": {
  "interpreter": {
   "hash": "aead66888521ae7167d34e1f81324e361177bc52c856550dd8d63a851fbf6c36"
  },
  "kernelspec": {
   "display_name": "Python 3.8.8 ('base')",
   "language": "python",
   "name": "python3"
  },
  "language_info": {
   "codemirror_mode": {
    "name": "ipython",
    "version": 3
   },
   "file_extension": ".py",
   "mimetype": "text/x-python",
   "name": "python",
   "nbconvert_exporter": "python",
   "pygments_lexer": "ipython3",
   "version": "3.8.8"
  }
 },
 "nbformat": 4,
 "nbformat_minor": 4
}
