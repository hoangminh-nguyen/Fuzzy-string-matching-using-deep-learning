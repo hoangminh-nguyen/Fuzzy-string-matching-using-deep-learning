{
 "cells": [
  {
   "cell_type": "markdown",
   "metadata": {},
   "source": [
    "### Function to read data from file"
   ]
  },
  {
   "cell_type": "code",
   "execution_count": 1,
   "metadata": {},
   "outputs": [],
   "source": [
    "from DeezyMatch.utils import normalizeString\n",
    "import pandas as pd\n",
    "import numpy as np\n",
    "\n",
    "csv_sep = \"\\t\"\n",
    "\n",
    "def prepare_data_from_file(dataset_path):\n",
    "    with open(dataset_path, \"r\", encoding=\"utf8\") as ds_fio:\n",
    "        df_list = ds_fio.readlines()\n",
    "        for i in range(len(df_list)):\n",
    "            tmp_split_row = df_list[i].split(csv_sep)\n",
    "            df_list[i] = tmp_split_row[:3]\n",
    "    dataset_pd = pd.DataFrame(df_list, columns=[\"s1\", \"s2\", \"label\"])\n",
    "    dataset_pd[\"s1\"] = dataset_pd[\"s1\"].str.strip()\n",
    "    dataset_pd[\"s2\"] = dataset_pd[\"s2\"].str.strip()\n",
    "    dataset_pd[\"label\"] = dataset_pd[\"label\"].str.strip()\n",
    "\n",
    "    dataset_pd[\"combine\"] = dataset_pd[\"s1\"] + \" + \" + dataset_pd[\"s2\"]\n",
    "    dataset_pd[\"combine\"] = dataset_pd[\"combine\"].apply(normalizeString)\n",
    "\n",
    "    X_train, y_train = np.asarray(dataset_pd[\"combine\"]), np.asarray(dataset_pd[\"label\"])\n",
    "    for i in range(len(y_train)):\n",
    "        y_train[i] = 1 if y_train[i] == \"TRUE\" else 0\n",
    "    return X_train, y_train, np.asarray(dataset_pd[\"s1\"])\n"
   ]
  },
  {
   "cell_type": "markdown",
   "metadata": {},
   "source": [
    "### Build Word2Vec model"
   ]
  },
  {
   "cell_type": "code",
   "execution_count": 2,
   "metadata": {},
   "outputs": [],
   "source": [
    "def simple_preprocessing(text):\n",
    "    text = text.replace('\"', '')\n",
    "    text = text.replace('\\'', '')\n",
    "    return text"
   ]
  },
  {
   "cell_type": "code",
   "execution_count": 3,
   "metadata": {},
   "outputs": [],
   "source": [
    "dataset_path = \"./dataset/wikidata.txt\"\n",
    "X_train, y_train,_ = prepare_data_from_file(dataset_path)\n",
    "\n",
    "X_tokenized = [[simple_preprocessing(w.strip()) for w in combine.split(\" \")] for combine in X_train]"
   ]
  },
  {
   "cell_type": "code",
   "execution_count": 4,
   "metadata": {},
   "outputs": [],
   "source": [
    "import gensim\n",
    "model = gensim.models.Word2Vec(sentences = X_tokenized, vector_size=120, min_count=1)"
   ]
  },
  {
   "cell_type": "markdown",
   "metadata": {},
   "source": [
    "### Prepare data for machine learning methods"
   ]
  },
  {
   "cell_type": "code",
   "execution_count": 5,
   "metadata": {},
   "outputs": [],
   "source": [
    "def generate_vector(combine):\n",
    "    tokens = combine.split(\" \")\n",
    "    vector = [model.wv[simple_preprocessing(tok.strip())] for tok in tokens]\n",
    "    return vector"
   ]
  },
  {
   "cell_type": "code",
   "execution_count": 6,
   "metadata": {},
   "outputs": [],
   "source": [
    "dataset_train_path = \"./dataset/wikidata.txt\"\n",
    "dataset_test_path = \"./dataset/wikidata-test.txt\"\n",
    "\n",
    "X_train, y_train,_ = prepare_data_from_file(dataset_train_path)\n",
    "X_test, y_test, original_test = prepare_data_from_file(dataset_test_path)\n",
    "\n",
    "# Convert y from 1D to 2D\n",
    "y_train = [[x] for x in y_train]\n",
    "y_test = [[x] for x in y_test]\n",
    "\n",
    "# Convert word to vector by using pretrained Word2Vec model\n",
    "X_train_vec = [generate_vector(x) for x in X_train]\n",
    "X_test_vec = [generate_vector(x) for x in X_test]\n",
    "\n",
    "# Convert word vector from 2D to 1D\n",
    "X_train_vec_1d = [np.mean(x, axis=0) for x in X_train_vec]\n",
    "X_test_vec_1d = [np.mean(x, axis=0) for x in X_test_vec]"
   ]
  },
  {
   "cell_type": "code",
   "execution_count": 11,
   "metadata": {},
   "outputs": [
    {
     "name": "stdout",
     "output_type": "stream",
     "text": [
      "93416 93416\n",
      "14011 14011\n"
     ]
    }
   ],
   "source": [
    "print(len(X_train_vec_1d), len(y_train))\n",
    "print(len(X_test_vec_1d), len(y_test))"
   ]
  },
  {
   "cell_type": "code",
   "execution_count": 12,
   "metadata": {},
   "outputs": [],
   "source": [
    "# Calculate metrics\n",
    "from sklearn.metrics import precision_score, recall_score, f1_score, accuracy_score\n",
    "import timeit\n",
    "\n",
    "def calculate_metrics(label, predict):\n",
    "    print('Accuracy score: ', accuracy_score(label, predict))\n",
    "    print('Precision: ', precision_score(label, predict))\n",
    "    print('Recall score: ', recall_score(label, predict))\n",
    "    print('F1 score: ', f1_score(label, predict))"
   ]
  },
  {
   "cell_type": "markdown",
   "metadata": {},
   "source": [
    "### SVM"
   ]
  },
  {
   "cell_type": "code",
   "execution_count": 65,
   "metadata": {},
   "outputs": [
    {
     "name": "stderr",
     "output_type": "stream",
     "text": [
      "C:\\Users\\ASUS TK\\AppData\\Local\\Packages\\PythonSoftwareFoundation.Python.3.9_qbz5n2kfra8p0\\LocalCache\\local-packages\\Python39\\site-packages\\sklearn\\utils\\validation.py:63: DataConversionWarning: A column-vector y was passed when a 1d array was expected. Please change the shape of y to (n_samples, ), for example using ravel().\n",
      "  return f(*args, **kwargs)\n"
     ]
    },
    {
     "name": "stdout",
     "output_type": "stream",
     "text": [
      "Training time:  10417.2885908\n",
      "Inference time:  277.2389511000001\n",
      "Accuracy score:  0.5482146675219157\n",
      "Precision:  0.5696871190572937\n",
      "Recall score:  0.39914590747330964\n",
      "F1 score:  0.46940654557629535\n"
     ]
    }
   ],
   "source": [
    "from sklearn import svm\n",
    "\n",
    "# Train SVM model\n",
    "start_train = timeit.default_timer()\n",
    "ml_svm = svm.SVC()\n",
    "ml_svm.fit(X_train_vec_1d, y_train)\n",
    "stop_train = timeit.default_timer()\n",
    "print(\"Training time: \", stop_train - start_train)\n",
    "\n",
    "# SVM predict\n",
    "start_inference = timeit.default_timer()\n",
    "pred_svm = ml_svm.predict(X_test_vec_1d)\n",
    "stop_inference = timeit.default_timer()\n",
    "print(\"Inference time: \", stop_inference - start_inference)\n",
    "\n",
    "# Print metric\n",
    "calculate_metrics(y_test, pred_svm)"
   ]
  },
  {
   "cell_type": "code",
   "execution_count": 72,
   "metadata": {},
   "outputs": [
    {
     "name": "stdout",
     "output_type": "stream",
     "text": [
      "14031 14031\n",
      "[0.52177907 0.47822093] Bill Gates\n",
      "[0.41589054 0.58410946] Michael Jackson\n",
      "[0.43081211 0.56918789] Micheal Jackson\n",
      "[0.41118969 0.58881031] MichaelJackson\n",
      "[0.41118125 0.58881875] Michael-Jackson\n",
      "[0.41656256 0.58343744] Michael Joseph Jackson\n",
      "[0.41162469 0.58837531] Michael Joe Jackson\n",
      "[0.40433031 0.59566969] Jackson, Michael\n",
      "[0.40718056 0.59281944] Jackson, Michael Joseph\n",
      "[0.41217264 0.58782736] 米高·積遜\n",
      "[0.45403463 0.54596537] Майкл Джексон\n",
      "[0.49066628 0.50933372] Μάϊκλ Τζάκσον\n",
      "[0.41135646 0.58864354] マイケルジャクソン\n",
      "[0.40783592 0.59216408] M. J.\n",
      "[0.40998943 0.59001057] M. Jackson\n",
      "[0.41084461 0.58915539] Michael J. Jackson\n",
      "[0.41998105 0.58001895] M. J. Jackson\n",
      "[0.41724333 0.58275667] Mr. Jackson\n",
      "[0.40971263 0.59028737] MJ\n",
      "[0.43602273 0.56397727] King of Pop\n"
     ]
    }
   ],
   "source": [
    "proba = ml_svm.predict_proba(X_test_vec_1d)\n",
    "\n",
    "print(len(original_test), len(proba))\n",
    "for i in range(20):\n",
    "    print(proba[len(proba)-20+i], original_test[len(original_test)-20+i])"
   ]
  },
  {
   "cell_type": "code",
   "execution_count": 76,
   "metadata": {},
   "outputs": [
    {
     "name": "stdout",
     "output_type": "stream",
     "text": [
      "0.5841094562892275 Michael Jackson\n",
      "0.5691878946344464 Micheal Jackson\n",
      "0.5888103082930961 MichaelJackson\n",
      "0.5888187466353652 Michael-Jackson\n",
      "0.5834374350904414 Michael Joseph Jackson\n",
      "0.588375308622705 Michael Joe Jackson\n",
      "0.5956696870814001 Jackson, Michael\n",
      "0.5928194358396892 Jackson, Michael Joseph\n",
      "0.5878273561124363 米高·積遜\n",
      "0.5459653714887908 Майкл Джексон\n",
      "0.5093337240090655 Μάϊκλ Τζάκσον\n",
      "0.5886435446553923 マイケルジャクソン\n",
      "0.5921640755095946 M. J.\n",
      "0.5900105655119416 M. Jackson\n",
      "0.589155391414248 Michael J. Jackson\n",
      "0.5800189540805423 M. J. Jackson\n",
      "0.5827566717223838 Mr. Jackson\n",
      "0.5902873678620918 MJ\n",
      "0.5639772736818391 King of Pop\n"
     ]
    }
   ],
   "source": [
    "for i in range(20):\n",
    "    if (proba[len(proba)-20+i][1] >= 0.5):\n",
    "        print(proba[len(proba)-20+i][1], original_test[len(original_test)-20+i])"
   ]
  },
  {
   "cell_type": "markdown",
   "metadata": {},
   "source": [
    "### Random forest"
   ]
  },
  {
   "cell_type": "code",
   "execution_count": 67,
   "metadata": {},
   "outputs": [
    {
     "name": "stderr",
     "output_type": "stream",
     "text": [
      "C:\\Users\\ASUSTK~1\\AppData\\Local\\Temp/ipykernel_5724/3893218134.py:6: DataConversionWarning: A column-vector y was passed when a 1d array was expected. Please change the shape of y to (n_samples,), for example using ravel().\n",
      "  model_random_forest.fit(X_train_vec_1d, y_train)\n"
     ]
    },
    {
     "name": "stdout",
     "output_type": "stream",
     "text": [
      "Training time:  159.2949731000008\n",
      "Inference time:  0.4921281999995699\n",
      "Accuracy score:  0.9997861877271755\n",
      "Precision:  1.0\n",
      "Recall score:  0.9995729537366548\n",
      "F1 score:  0.9997864312664626\n"
     ]
    }
   ],
   "source": [
    "from sklearn.ensemble import RandomForestClassifier\n",
    "\n",
    "# Train Random forest model\n",
    "start_train = timeit.default_timer()\n",
    "model_random_forest = RandomForestClassifier()\n",
    "model_random_forest.fit(X_train_vec_1d, y_train)\n",
    "stop_train = timeit.default_timer()\n",
    "print(\"Training time: \", stop_train - start_train)\n",
    "\n",
    "# SVM predict\n",
    "start_inference = timeit.default_timer()\n",
    "pred_randomforest = model_random_forest.predict(X_test_vec_1d)\n",
    "stop_inference = timeit.default_timer()\n",
    "print(\"Inference time: \", stop_inference - start_inference)\n",
    "\n",
    "# Print metric\n",
    "calculate_metrics(y_test, pred_randomforest)"
   ]
  },
  {
   "cell_type": "code",
   "execution_count": 69,
   "metadata": {},
   "outputs": [
    {
     "name": "stdout",
     "output_type": "stream",
     "text": [
      "14031 14031\n",
      "Bill Gates [0.54 0.46]\n",
      "Michael Jackson [0.26 0.74]\n",
      "Micheal Jackson [0.48 0.52]\n",
      "MichaelJackson [0.17 0.83]\n",
      "Michael-Jackson [0.16 0.84]\n",
      "Michael Joseph Jackson [0.2 0.8]\n",
      "Michael Joe Jackson [0.23 0.77]\n",
      "Jackson, Michael [0.47 0.53]\n",
      "Jackson, Michael Joseph [0.37 0.63]\n",
      "米高·積遜 [0.21 0.79]\n",
      "Майкл Джексон [0.64 0.36]\n",
      "Μάϊκλ Τζάκσον [0.36 0.64]\n",
      "マイケルジャクソン [0.19 0.81]\n",
      "M. J. [0.37 0.63]\n",
      "M. Jackson [0.56 0.44]\n",
      "Michael J. Jackson [0.23 0.77]\n",
      "M. J. Jackson [0.24 0.76]\n",
      "Mr. Jackson [0.28 0.72]\n",
      "MJ [0.21 0.79]\n",
      "King of Pop [0.12 0.88]\n"
     ]
    }
   ],
   "source": [
    "proba = model_random_forest.predict_proba(X_test_vec_1d)\n",
    "\n",
    "print(len(original_test), len(proba))\n",
    "\n",
    "for i in range(20):\n",
    "    print(original_test[len(original_test)-20+i], proba[len(proba)-20+i],)"
   ]
  },
  {
   "cell_type": "code",
   "execution_count": 58,
   "metadata": {},
   "outputs": [
    {
     "name": "stdout",
     "output_type": "stream",
     "text": [
      "MichaelJackson 0.79\n",
      "Michael-Jackson 0.77\n",
      "Michael Joseph Jackson 0.71\n",
      "Michael Joe Jackson 0.72\n",
      "米高·積遜 0.74\n",
      "マイケルジャクソン 0.79\n",
      "M. J. Jackson 0.78\n",
      "Mr. Jackson 0.7\n",
      "MJ 0.77\n",
      "King of Pop 0.84\n"
     ]
    }
   ],
   "source": [
    "for i in range(20):\n",
    "    if(proba[len(proba)-20+i][1] >= 0.7):\n",
    "        print(original_test[len(original_test)-20+i], proba[len(proba)-20+i][1],)"
   ]
  },
  {
   "cell_type": "markdown",
   "metadata": {},
   "source": [
    "### Gradient Boosted Trees"
   ]
  },
  {
   "cell_type": "code",
   "execution_count": 32,
   "metadata": {},
   "outputs": [
    {
     "name": "stderr",
     "output_type": "stream",
     "text": [
      "C:\\Users\\ASUS TK\\AppData\\Local\\Packages\\PythonSoftwareFoundation.Python.3.9_qbz5n2kfra8p0\\LocalCache\\local-packages\\Python39\\site-packages\\sklearn\\utils\\validation.py:63: DataConversionWarning: A column-vector y was passed when a 1d array was expected. Please change the shape of y to (n_samples, ), for example using ravel().\n",
      "  return f(*args, **kwargs)\n"
     ]
    },
    {
     "name": "stdout",
     "output_type": "stream",
     "text": [
      "Training time:  439.59463860000005\n",
      "Inference time:  0.03771039999992354\n",
      "Accuracy score:  0.5838500463259925\n",
      "Precision:  0.6360715924736118\n",
      "Recall score:  0.39459074733096083\n",
      "F1 score:  0.48704208029517704\n"
     ]
    }
   ],
   "source": [
    "from sklearn.ensemble import GradientBoostingClassifier\n",
    "\n",
    "# Train Gradient boosted trees model\n",
    "start_train = timeit.default_timer()\n",
    "model_gradient_boost = GradientBoostingClassifier()\n",
    "model_gradient_boost.fit(X_train_vec_1d, y_train)\n",
    "stop_train = timeit.default_timer()\n",
    "print(\"Training time: \", stop_train - start_train)\n",
    "\n",
    "# Gradient boosted trees predict\n",
    "start_inference = timeit.default_timer()\n",
    "pred_gradientboostedtrees = model_gradient_boost.predict(X_test_vec_1d)\n",
    "stop_inference = timeit.default_timer()\n",
    "print(\"Inference time: \", stop_inference - start_inference)\n",
    "\n",
    "# Print metric\n",
    "calculate_metrics(y_test, pred_gradientboostedtrees)    "
   ]
  },
  {
   "cell_type": "markdown",
   "metadata": {},
   "source": [
    "### Naive Bayes"
   ]
  },
  {
   "cell_type": "code",
   "execution_count": 48,
   "metadata": {},
   "outputs": [
    {
     "name": "stderr",
     "output_type": "stream",
     "text": [
      "C:\\Users\\ASUS TK\\AppData\\Local\\Packages\\PythonSoftwareFoundation.Python.3.9_qbz5n2kfra8p0\\LocalCache\\local-packages\\Python39\\site-packages\\sklearn\\utils\\validation.py:63: DataConversionWarning: A column-vector y was passed when a 1d array was expected. Please change the shape of y to (n_samples, ), for example using ravel().\n",
      "  return f(*args, **kwargs)\n"
     ]
    },
    {
     "name": "stdout",
     "output_type": "stream",
     "text": [
      "Training time:  0.3025149000000056\n",
      "Inference time:  0.07010020000006989\n",
      "Accuracy score:  0.53994725963937\n",
      "Precision:  0.5633614939973322\n",
      "Recall score:  0.36071174377224197\n",
      "F1 score:  0.43981602013364574\n"
     ]
    }
   ],
   "source": [
    "from sklearn.naive_bayes import GaussianNB\n",
    "\n",
    "# Train Naive Bayes model\n",
    "start_train = timeit.default_timer()\n",
    "model_naive_bayes = GaussianNB()\n",
    "model_naive_bayes.fit(X_train_vec_1d, y_train)\n",
    "stop_train = timeit.default_timer()\n",
    "print(\"Training time: \", stop_train - start_train)\n",
    "\n",
    "# Naive Bayes predict\n",
    "start_inference = timeit.default_timer()\n",
    "pred_naive_bayes = model_naive_bayes.predict(X_test_vec_1d)\n",
    "stop_inference = timeit.default_timer()\n",
    "print(\"Inference time: \", stop_inference - start_inference)\n",
    "\n",
    "# Print metric\n",
    "calculate_metrics(y_test, pred_naive_bayes)"
   ]
  },
  {
   "cell_type": "code",
   "execution_count": null,
   "metadata": {},
   "outputs": [],
   "source": []
  }
 ],
 "metadata": {
  "interpreter": {
   "hash": "e32c473f9ae643a177d9aed137210c843a2749e204593912b966393b5abcabe7"
  },
  "kernelspec": {
   "display_name": "Python 3.9.13 64-bit (windows store)",
   "language": "python",
   "name": "python3"
  },
  "language_info": {
   "codemirror_mode": {
    "name": "ipython",
    "version": 3
   },
   "file_extension": ".py",
   "mimetype": "text/x-python",
   "name": "python",
   "nbconvert_exporter": "python",
   "pygments_lexer": "ipython3",
   "version": "3.9.13"
  },
  "orig_nbformat": 4
 },
 "nbformat": 4,
 "nbformat_minor": 2
}
