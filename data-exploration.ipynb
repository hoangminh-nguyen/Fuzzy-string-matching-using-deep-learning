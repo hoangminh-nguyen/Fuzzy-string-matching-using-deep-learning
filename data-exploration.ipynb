{
 "cells": [
  {
   "cell_type": "markdown",
   "metadata": {},
   "source": [
    "### Explore data:\n",
    "- Languages\n",
    "- Alphabets\n",
    "- Number of characters\n",
    "- Type of variants\n",
    "- ..."
   ]
  },
  {
   "cell_type": "markdown",
   "metadata": {},
   "source": [
    "### Create class to store data"
   ]
  },
  {
   "cell_type": "code",
   "execution_count": 8,
   "metadata": {},
   "outputs": [],
   "source": [
    "class Pair():\n",
    "    def __init__(self, s1, s2, label, s1_alphabet, s2_alphabet):\n",
    "        self.s1 = s1.strip()\n",
    "        self.s2 = s2.strip()\n",
    "        self.label = label.strip()\n",
    "        self.s1_alphabet = s1_alphabet.strip()\n",
    "        self.s2_alphabet = s2_alphabet.strip()\n",
    "        self.is_same_alphabet = (self.s1_alphabet == self.s2_alphabet)\n",
    "        self.diff_character = abs(len(self.s1) - len(self.s2))\n",
    "        self.has_initial_name = self.check_initial_name()\n",
    "\n",
    "    # for LATIN only\n",
    "    def check_initial_name(self):\n",
    "        if (self.s1_alphabet == \"LATIN\"):\n",
    "            s1_split = self.s1.split(\" \")\n",
    "            for x in s1_split:\n",
    "                if (len(x) == 2 and x[1] == '.'):\n",
    "                    return True\n",
    "        if (self.s2_alphabet == \"LATIN\"):\n",
    "            s2_split = self.s2.split(\" \")\n",
    "            for x in s2_split:\n",
    "                if (len(x) == 2 and x[1] == '.'):\n",
    "                    return True\n",
    "        return False\n"
   ]
  },
  {
   "cell_type": "code",
   "execution_count": 9,
   "metadata": {},
   "outputs": [],
   "source": [
    "class Object():\n",
    "    def __init__(self):\n",
    "        self.n_true = 0\n",
    "        self.n_false = 0\n",
    "    \n",
    "    def add(self, label_type):\n",
    "        if (label_type==\"TRUE\"): self.n_true = self.n_true + 1\n",
    "        else: self.n_false = self.n_false + 1\n",
    "\n",
    "    def get_total(self):\n",
    "        return self.n_true + self.n_false \n",
    "    \n",
    "    def output_string(self):\n",
    "        s = str(self.get_total()) + \"   True: \" + str(self.n_true) + \"   False: \" + str(self.n_false)\n",
    "        return s\n"
   ]
  },
  {
   "cell_type": "code",
   "execution_count": 65,
   "metadata": {},
   "outputs": [],
   "source": [
    "class ListOfPair():\n",
    "    def __init__(self, input_path):\n",
    "        self.list_pair = self.get_pair_list(input_path)\n",
    "        self.list_alphabet = self.get_alphabet_list() \n",
    "    \n",
    "    def get_pair_list(self, input_path):\n",
    "        list_pair = []\n",
    "        with open(input_path, \"r\", encoding=\"utf-8\") as f:\n",
    "            while(True):\n",
    "                line = f.readline() # line = s1|s2|label|s1_id|s2_id|s1_alphabet|s2_alphabet\n",
    "                if (line == \"\"): break\n",
    "                line_split = line.split(\"\\t\")\n",
    "                s1, s2, label = line_split[0], line_split[1], line_split[2]\n",
    "                s1_alphabet, s2_alphabet = line_split[-2], line_split[-1]\n",
    "                list_pair.append(Pair(s1, s2, label, s1_alphabet, s2_alphabet))\n",
    "        return list_pair\n",
    "    \n",
    "    def get_alphabet_list(self):\n",
    "        list_alphabet = set()\n",
    "        for pair in self.list_pair:\n",
    "            list_alphabet.add(pair.s1_alphabet)\n",
    "            list_alphabet.add(pair.s2_alphabet)\n",
    "        return list(list_alphabet)\n",
    "\n",
    "    def count_same_diff_alphabet(self):\n",
    "        result = {\"Same\": Object(), \"Diff\": Object()}\n",
    "        for pair in self.list_pair:\n",
    "            if pair.is_same_alphabet:\n",
    "                result[\"Same\"].add(pair.label)\n",
    "            else: result[\"Diff\"].add(pair.label)\n",
    "        return result\n",
    "\n",
    "    def count_pair_same_alphabet(self):\n",
    "        result = {}\n",
    "        for alphabet in self.list_alphabet:\n",
    "            result[alphabet] = Object()\n",
    "        for pair in self.list_pair:\n",
    "            if (pair.is_same_alphabet):\n",
    "                result[pair.s1_alphabet].add(pair.label)\n",
    "        return sorted(result.items(), key=lambda kv: kv[1].get_total(), reverse=True) # sort descending by value\n",
    "\n",
    "    def count_each_alphabet_occurence(self):\n",
    "        result = {}\n",
    "        for alphabet in self.list_alphabet:\n",
    "            result[alphabet] = Object()\n",
    "        for pair in self.list_pair:\n",
    "            if (pair.is_same_alphabet):\n",
    "                result[pair.s1_alphabet].add(pair.label)\n",
    "            else:\n",
    "                if (pair.s1_alphabet != \"LATIN\"):\n",
    "                    result[pair.s1_alphabet].add(pair.label)\n",
    "                if (pair.s2_alphabet != \"LATIN\"):\n",
    "                    result[pair.s2_alphabet].add(pair.label)\n",
    "        return sorted(result.items(), key=lambda kv: kv[1].get_total(), reverse=True) # sort descending by value\n",
    "\n",
    "    def count_different_character(self):\n",
    "        result = {}\n",
    "        for pair in self.list_pair:\n",
    "            if (pair.diff_character not in result):\n",
    "                result[pair.diff_character] = Object()\n",
    "            result[pair.diff_character].add(pair.label)\n",
    "        return sorted(result.items()) \n",
    "    \n",
    "    def count_initial(self):\n",
    "        result = Object()\n",
    "        for pair in self.list_pair:\n",
    "            if pair.has_initial_name:\n",
    "                result.add(pair.label)\n",
    "        return result\n",
    "\n",
    "    def analyze(self):\n",
    "        print(\"Number of pairs:\", len(self.list_pair))\n",
    "        print(\"Number of alphabets:\", len(self.list_alphabet))\n",
    "        print(self.list_alphabet)\n",
    "\n",
    "        print(\"\\nNumber of pairs has the Same and Different alphabet:\")\n",
    "        result = self.count_same_diff_alphabet()\n",
    "        for x in result:\n",
    "            print(\"---\", x, result[x].output_string())\n",
    "        \n",
    "        print(\"\\nDistribution in pairs has the Same alphabet:\")\n",
    "        pair_same_alphabet = self.count_pair_same_alphabet()\n",
    "        for x in pair_same_alphabet:\n",
    "            if (x[1].get_total() > 0):\n",
    "                print(\"---\", x[0], x[1].output_string())\n",
    "        \n",
    "        print(\"\\nNumber of pair has the occurence of:\")\n",
    "        each_alphabet_occurence = self.count_each_alphabet_occurence()\n",
    "        for x in each_alphabet_occurence:\n",
    "            if (x[1].get_total() > 0):\n",
    "                print(\"---\", x[0], x[1].output_string())\n",
    "        n_true, n_false, index = \"\", \"\", \"\"\n",
    "        for x in each_alphabet_occurence:\n",
    "            index = index + \", \\\"\" + x[0] + \"\\\"\"\n",
    "            n_true = n_true + \", \" + str(x[1].n_true)\n",
    "            n_false = n_false + \", \" + str(x[1].n_false)\n",
    "        print(\"index = [\", index[1:], \"]\")\n",
    "        print(\"n_true = [\", n_true[1:], \"]\")\n",
    "        print(\"n_false = [\", n_false[1:], \"]\")\n",
    "\n",
    "        print(\"\\nNumber of different characters in pairs:\")\n",
    "        character_diff = self.count_different_character()\n",
    "        for x in character_diff:\n",
    "            if (x[1].get_total() > 0):\n",
    "                print(\"---\", x[0], x[1].output_string())\n",
    "        n_true, n_false, index = \"\", \"\", \"\"\n",
    "        for x in character_diff:\n",
    "            index = index + \", \\\"\" + str(x[0]) + \"\\\"\"\n",
    "            n_true = n_true + \", \" + str(x[1].n_true)\n",
    "            n_false = n_false + \", \" + str(x[1].n_false)\n",
    "        print(\"index = [\", index[1:], \"]\")\n",
    "        print(\"n_true = [\", n_true[1:], \"]\")\n",
    "        print(\"n_false = [\", n_false[1:], \"]\")\n",
    "\n",
    "        print(\"\\nNumber of pairs has initial name (LATIN only):\")\n",
    "        initial = self.count_initial()\n",
    "        print(initial.output_string())"
   ]
  },
  {
   "cell_type": "markdown",
   "metadata": {},
   "source": [
    "### Start exploring dataset"
   ]
  },
  {
   "cell_type": "code",
   "execution_count": 79,
   "metadata": {},
   "outputs": [
    {
     "name": "stdout",
     "output_type": "stream",
     "text": [
      "Number of pairs: 93416\n",
      "Number of alphabets: 33\n",
      "['CJK', 'KATAKANA-HIRAGANA', 'HIRAGANA', 'DEVANAGARI', 'MONGOLIAN', 'BENGALI', 'ARMENIAN', 'KHMER', 'GURMUKHI', 'KANNADA', 'MALAYALAM', 'CYRILLIC', 'TIBETAN', 'MYANMAR', 'GREEK', 'GEORGIAN', 'ETHIOPIC', 'SINHALA', 'NKO', 'UND', 'HANGUL', 'GUJARATI', 'LATIN', 'LAO', 'TAMIL', 'ORIYA', 'MODIFIER', 'TELUGU', 'HEBREW', 'THAI', 'SYRIAC', 'KATAKANA', 'ARABIC']\n",
      "\n",
      "Number of pairs has the Same and Different alphabet:\n",
      "--- Same 63309   True: 29993   False: 33316\n",
      "--- Diff 30107   True: 16716   False: 13391\n",
      "\n",
      "Distribution in pairs has the Same alphabet:\n",
      "--- LATIN 58329   True: 27621   False: 30708\n",
      "--- CYRILLIC 3791   True: 1501   False: 2290\n",
      "--- CJK 645   True: 478   False: 167\n",
      "--- ARABIC 140   True: 93   False: 47\n",
      "--- HANGUL 110   True: 78   False: 32\n",
      "--- HEBREW 70   True: 50   False: 20\n",
      "--- THAI 54   True: 38   False: 16\n",
      "--- KATAKANA-HIRAGANA 53   True: 42   False: 11\n",
      "--- KATAKANA 24   True: 20   False: 4\n",
      "--- HIRAGANA 20   True: 12   False: 8\n",
      "--- GREEK 18   True: 11   False: 7\n",
      "--- DEVANAGARI 12   True: 11   False: 1\n",
      "--- ARMENIAN 11   True: 7   False: 4\n",
      "--- TELUGU 9   True: 9   False: 0\n",
      "--- BENGALI 5   True: 5   False: 0\n",
      "--- GEORGIAN 4   True: 4   False: 0\n",
      "--- SINHALA 3   True: 3   False: 0\n",
      "--- TAMIL 3   True: 3   False: 0\n",
      "--- MALAYALAM 2   True: 2   False: 0\n",
      "--- ORIYA 2   True: 2   False: 0\n",
      "--- KHMER 1   True: 1   False: 0\n",
      "--- KANNADA 1   True: 0   False: 1\n",
      "--- TIBETAN 1   True: 1   False: 0\n",
      "--- GUJARATI 1   True: 1   False: 0\n",
      "\n",
      "Number of pair has the occurence of:\n",
      "--- LATIN 58329   True: 27621   False: 30708\n",
      "--- CYRILLIC 18297   True: 10420   False: 7877\n",
      "--- CJK 9275   True: 4327   False: 4948\n",
      "--- HANGUL 2287   True: 1335   False: 952\n",
      "--- KATAKANA-HIRAGANA 2138   True: 1008   False: 1130\n",
      "--- ARABIC 1700   True: 993   False: 707\n",
      "--- KATAKANA 1606   True: 753   False: 853\n",
      "--- HEBREW 891   True: 512   False: 379\n",
      "--- THAI 710   True: 413   False: 297\n",
      "--- HIRAGANA 649   True: 384   False: 265\n",
      "--- GREEK 415   True: 260   False: 155\n",
      "--- ARMENIAN 291   True: 177   False: 114\n",
      "--- DEVANAGARI 250   True: 151   False: 99\n",
      "--- BENGALI 126   True: 71   False: 55\n",
      "--- TELUGU 121   True: 67   False: 54\n",
      "--- GEORGIAN 117   True: 57   False: 60\n",
      "--- TAMIL 103   True: 61   False: 42\n",
      "--- MALAYALAM 79   True: 49   False: 30\n",
      "--- MODIFIER 54   True: 29   False: 25\n",
      "--- GUJARATI 47   True: 30   False: 17\n",
      "--- ORIYA 35   True: 23   False: 12\n",
      "--- KANNADA 26   True: 16   False: 10\n",
      "--- UND 24   True: 12   False: 12\n",
      "--- ETHIOPIC 20   True: 11   False: 9\n",
      "--- SINHALA 20   True: 9   False: 11\n",
      "--- GURMUKHI 19   True: 13   False: 6\n",
      "--- TIBETAN 12   True: 5   False: 7\n",
      "--- MYANMAR 11   True: 7   False: 4\n",
      "--- KHMER 8   True: 6   False: 2\n",
      "--- LAO 4   True: 2   False: 2\n",
      "--- MONGOLIAN 1   True: 1   False: 0\n",
      "--- NKO 1   True: 0   False: 1\n",
      "--- SYRIAC 1   True: 0   False: 1\n",
      "index = [  \"LATIN\", \"CYRILLIC\", \"CJK\", \"HANGUL\", \"KATAKANA-HIRAGANA\", \"ARABIC\", \"KATAKANA\", \"HEBREW\", \"THAI\", \"HIRAGANA\", \"GREEK\", \"ARMENIAN\", \"DEVANAGARI\", \"BENGALI\", \"TELUGU\", \"GEORGIAN\", \"TAMIL\", \"MALAYALAM\", \"MODIFIER\", \"GUJARATI\", \"ORIYA\", \"KANNADA\", \"UND\", \"ETHIOPIC\", \"SINHALA\", \"GURMUKHI\", \"TIBETAN\", \"MYANMAR\", \"KHMER\", \"LAO\", \"MONGOLIAN\", \"NKO\", \"SYRIAC\" ]\n",
      "n_true = [  27621, 10420, 4327, 1335, 1008, 993, 753, 512, 413, 384, 260, 177, 151, 71, 67, 57, 61, 49, 29, 30, 23, 16, 12, 11, 9, 13, 5, 7, 6, 2, 1, 0, 0 ]\n",
      "n_false = [  30708, 7877, 4948, 952, 1130, 707, 853, 379, 297, 265, 155, 114, 99, 55, 54, 60, 42, 30, 25, 17, 12, 10, 12, 9, 11, 6, 7, 4, 2, 2, 0, 1, 1 ]\n",
      "\n",
      "Number of different characters in pairs:\n",
      "--- 0 11421   True: 8064   False: 3357\n",
      "--- 1 11256   True: 5662   False: 5594\n",
      "--- 2 8050   True: 3162   False: 4888\n",
      "--- 3 6910   True: 2640   False: 4270\n",
      "--- 4 6291   True: 2426   False: 3865\n",
      "--- 5 6307   True: 2934   False: 3373\n",
      "--- 6 6323   True: 3288   False: 3035\n",
      "--- 7 6102   True: 3333   False: 2769\n",
      "--- 8 5398   True: 2875   False: 2523\n",
      "--- 9 4468   True: 2413   False: 2055\n",
      "--- 10 3775   True: 1955   False: 1820\n",
      "--- 11 3043   True: 1522   False: 1521\n",
      "--- 12 2369   True: 1105   False: 1264\n",
      "--- 13 2054   True: 992   False: 1062\n",
      "--- 14 1760   True: 891   False: 869\n",
      "--- 15 1484   True: 705   False: 779\n",
      "--- 16 1229   True: 574   False: 655\n",
      "--- 17 949   True: 428   False: 521\n",
      "--- 18 798   True: 340   False: 458\n",
      "--- 19 679   True: 291   False: 388\n",
      "--- 20 543   True: 218   False: 325\n",
      "--- 21 417   True: 184   False: 233\n",
      "--- 22 369   True: 147   False: 222\n",
      "--- 23 271   True: 109   False: 162\n",
      "--- 24 215   True: 86   False: 129\n",
      "--- 25 185   True: 79   False: 106\n",
      "--- 26 125   True: 48   False: 77\n",
      "--- 27 107   True: 42   False: 65\n",
      "--- 28 100   True: 34   False: 66\n",
      "--- 29 71   True: 26   False: 45\n",
      "--- 30 50   True: 15   False: 35\n",
      "--- 31 50   True: 19   False: 31\n",
      "--- 32 40   True: 17   False: 23\n",
      "--- 33 31   True: 14   False: 17\n",
      "--- 34 29   True: 13   False: 16\n",
      "--- 35 23   True: 7   False: 16\n",
      "--- 36 14   True: 6   False: 8\n",
      "--- 37 17   True: 6   False: 11\n",
      "--- 38 5   True: 5   False: 0\n",
      "--- 39 10   True: 1   False: 9\n",
      "--- 40 6   True: 6   False: 0\n",
      "--- 41 6   True: 2   False: 4\n",
      "--- 42 3   True: 0   False: 3\n",
      "--- 43 5   True: 1   False: 4\n",
      "--- 44 5   True: 2   False: 3\n",
      "--- 45 5   True: 3   False: 2\n",
      "--- 46 4   True: 0   False: 4\n",
      "--- 47 8   True: 5   False: 3\n",
      "--- 48 4   True: 1   False: 3\n",
      "--- 49 2   True: 2   False: 0\n",
      "--- 50 3   True: 1   False: 2\n",
      "--- 51 2   True: 0   False: 2\n",
      "--- 52 3   True: 3   False: 0\n",
      "--- 53 2   True: 0   False: 2\n",
      "--- 54 1   True: 0   False: 1\n",
      "--- 55 1   True: 0   False: 1\n",
      "--- 56 1   True: 0   False: 1\n",
      "--- 58 2   True: 1   False: 1\n",
      "--- 60 1   True: 0   False: 1\n",
      "--- 61 2   True: 1   False: 1\n",
      "--- 64 3   True: 2   False: 1\n",
      "--- 65 1   True: 0   False: 1\n",
      "--- 66 1   True: 0   False: 1\n",
      "--- 67 2   True: 1   False: 1\n",
      "--- 71 1   True: 0   False: 1\n",
      "--- 91 1   True: 0   False: 1\n",
      "--- 100 1   True: 1   False: 0\n",
      "--- 201 1   True: 0   False: 1\n",
      "--- 206 1   True: 1   False: 0\n",
      "index = [  \"0\", \"1\", \"2\", \"3\", \"4\", \"5\", \"6\", \"7\", \"8\", \"9\", \"10\", \"11\", \"12\", \"13\", \"14\", \"15\", \"16\", \"17\", \"18\", \"19\", \"20\", \"21\", \"22\", \"23\", \"24\", \"25\", \"26\", \"27\", \"28\", \"29\", \"30\", \"31\", \"32\", \"33\", \"34\", \"35\", \"36\", \"37\", \"38\", \"39\", \"40\", \"41\", \"42\", \"43\", \"44\", \"45\", \"46\", \"47\", \"48\", \"49\", \"50\", \"51\", \"52\", \"53\", \"54\", \"55\", \"56\", \"58\", \"60\", \"61\", \"64\", \"65\", \"66\", \"67\", \"71\", \"91\", \"100\", \"201\", \"206\" ]\n",
      "n_true = [  8064, 5662, 3162, 2640, 2426, 2934, 3288, 3333, 2875, 2413, 1955, 1522, 1105, 992, 891, 705, 574, 428, 340, 291, 218, 184, 147, 109, 86, 79, 48, 42, 34, 26, 15, 19, 17, 14, 13, 7, 6, 6, 5, 1, 6, 2, 0, 1, 2, 3, 0, 5, 1, 2, 1, 0, 3, 0, 0, 0, 0, 1, 0, 1, 2, 0, 0, 1, 0, 0, 1, 0, 1 ]\n",
      "n_false = [  3357, 5594, 4888, 4270, 3865, 3373, 3035, 2769, 2523, 2055, 1820, 1521, 1264, 1062, 869, 779, 655, 521, 458, 388, 325, 233, 222, 162, 129, 106, 77, 65, 66, 45, 35, 31, 23, 17, 16, 16, 8, 11, 0, 9, 0, 4, 3, 4, 3, 2, 4, 3, 3, 0, 2, 2, 0, 2, 1, 1, 1, 1, 1, 1, 1, 1, 1, 1, 1, 1, 0, 1, 0 ]\n",
      "\n",
      "Number of pairs has initial name (LATIN only):\n",
      "1365   True: 687   False: 678\n"
     ]
    }
   ],
   "source": [
    "toponym_path = \"./dataset/toponym.txt\"\n",
    "ulan_path = \"./dataset/ulan.txt\"\n",
    "wikidata_path = \"./dataset/wikidata.txt\"\n",
    "\n",
    "pair_list = ListOfPair(wikidata_path)\n",
    "pair_list.analyze()"
   ]
  },
  {
   "cell_type": "markdown",
   "metadata": {},
   "source": [
    "### Plot"
   ]
  },
  {
   "cell_type": "code",
   "execution_count": 70,
   "metadata": {},
   "outputs": [
    {
     "data": {
      "image/png": "[encoded data removed]",
      "text/plain": [
       "<Figure size 432x288 with 1 Axes>"
      ]
     },
     "metadata": {
      "needs_background": "light"
     },
     "output_type": "display_data"
    }
   ],
   "source": [
    "import matplotlib.pyplot as plt\n",
    "import numpy as np\n",
    "import pandas as pd\n",
    "\n",
    "index =  [\"LATIN\", \"CYRILLIC\", \"CJK\", \"HANGUL\", \"KATAKANA-HIRAGANA\", \"ARABIC\", \"KATAKANA\", \"HEBREW\", \"THAI\", \"HIRAGANA\", \"GREEK\", \"ARMENIAN\", \"DEVANAGARI\", \"BENGALI\", \"Còn lại\"]\n",
    "n_true =  [ 27621, 10420, 4327, 1335, 1008, 993, 753, 512, 413, 384, 260, 177, 151, 71, 398]\n",
    "n_false =  [30708, 7877, 4948, 952, 1130, 707, 853, 379, 297, 265, 155, 114, 99, 55, 301]\n",
    "  \n",
    "df = pd.DataFrame({'Cặp tên khớp': n_true,\n",
    "                    'Cặp tên không khớp': n_false}, index=index)\n",
    "ax = df.plot.barh(log=True)\n",
    "\n",
    "plt.xlabel(\"Số lượng cặp tên\")\n",
    "plt.ylabel(\"Bảng chữ cái\")\n",
    "plt.title(\"Wikidata\")\n",
    "#plt.savefig('different-alphabet-distribution-bar-wikidata.png', bbox_inches = 'tight')\n",
    "plt.show()"
   ]
  },
  {
   "cell_type": "code",
   "execution_count": 60,
   "metadata": {},
   "outputs": [
    {
     "data": {
      "image/png": "[encoded data removed]",
      "text/plain": [
       "<Figure size 432x288 with 1 Axes>"
      ]
     },
     "metadata": {},
     "output_type": "display_data"
    }
   ],
   "source": [
    "index =  [\"LATIN\", \"CYRILLIC\", \"CJK\", \"HANGUL\", \"ARABIC\", \"Còn lại\"]\n",
    "n_true =  np.array([ 27621, 10420, 4327, 1335, 993, 4180])\n",
    "n_false =  np.array([30708, 7877, 4948, 952, 707, 3652])\n",
    "total = n_true + n_false\n",
    "plt.pie(total, labels = index, autopct='%1.1f%%', startangle = 90)\n",
    "plt.title(\"Wikidata\")\n",
    "#plt.savefig('different-alphabet-distribution-pie-wikidata.png', bbox_inches = 'tight')\n",
    "plt.show() "
   ]
  },
  {
   "cell_type": "code",
   "execution_count": 82,
   "metadata": {},
   "outputs": [
    {
     "data": {
      "image/png": "[encoded data removed]",
      "text/plain": [
       "<Figure size 432x288 with 1 Axes>"
      ]
     },
     "metadata": {
      "needs_background": "light"
     },
     "output_type": "display_data"
    }
   ],
   "source": [
    "import matplotlib.pyplot as plt\n",
    "import numpy as np\n",
    "import pandas as pd\n",
    "\n",
    "index = [  \"0\", \"1\", \"2\", \"3\", \"4\", \"5\", \"6\", \"7\", \"8\", \"9\", \"10\", \"11\", \"12\", \"13\", \"14\", \"15\", \"16\", \"17\", \"18\", \"19\", \"20\", \">20\" ]\n",
    "n_true = [  8064, 5662, 3162, 2640, 2426, 2934, 3288, 3333, 2875, 2413, 1955, 1522, 1105, 992, 891, 705, 574, 428, 340, 291, 218, 891]\n",
    "n_false = [  3357, 5594, 4888, 4270, 3865, 3373, 3035, 2769, 2523, 2055, 1820, 1521, 1264, 1062, 869, 779, 655, 521, 458, 388, 325,1316 ]\n",
    "\n",
    "fig, ax = plt.subplots()\n",
    "ax.bar(index, n_true, label='Cặp tên khớp')\n",
    "ax.bar(index, n_false, bottom=n_true,\n",
    "       label='Cặp tên không khớp')\n",
    "\n",
    "ax.set_xlabel(\"Số lượng ký tự chênh lệch\")\n",
    "ax.set_ylabel(\"Số lượng cặp tên\")\n",
    "ax.set_title(\"Wikidata\")\n",
    "ax.legend()\n",
    "#plt.savefig('different-character-distribution-wikidata.png', bbox_inches = 'tight')\n",
    "plt.show()"
   ]
  },
  {
   "cell_type": "code",
   "execution_count": 81,
   "metadata": {},
   "outputs": [
    {
     "data": {
      "text/plain": [
       "1316"
      ]
     },
     "execution_count": 81,
     "metadata": {},
     "output_type": "execute_result"
    }
   ],
   "source": [
    "a = np.array([233, 222, 162, 129, 106, 77, 65, 66, 45, 35, 31, 23, 17, 16, 16, 8, 11, 0, 9, 0, 4, 3, 4, 3, 2, 4, 3, 3, 0, 2, 2, 0, 2, 1, 1, 1, 1, 1, 1, 1, 1, 1, 1, 1, 1, 0, 1, 0  ])\n",
    "sum(a)"
   ]
  },
  {
   "cell_type": "markdown",
   "metadata": {},
   "source": [
    "### Average charaters in name"
   ]
  },
  {
   "cell_type": "code",
   "execution_count": 1,
   "metadata": {},
   "outputs": [
    {
     "name": "stdout",
     "output_type": "stream",
     "text": [
      "Average characters\n",
      "Toponym:  11.3610241\n",
      "ULAN:  16.928424034281704\n",
      "Wikidata:  14.264258799349149\n"
     ]
    }
   ],
   "source": [
    "def cal_average_characters(input_path):\n",
    "    with open(input_path, \"r\", encoding=\"utf-8\") as f:\n",
    "        sum = 0\n",
    "        count = 0\n",
    "        while(True):\n",
    "            line = f.readline() # line = s1|s2|label|s1_id|s2_id|s1_alphabet|s2_alphabet\n",
    "            if (line == \"\"): break\n",
    "            line_split = line.split(\"\\t\")\n",
    "            sum = sum + len(line_split[0])\n",
    "            sum = sum + len(line_split[1])\n",
    "            count = count + 2\n",
    "    return sum/count\n",
    "    \n",
    "print(\"Average characters\")\n",
    "print(\"Toponym: \", cal_average_characters(\"./dataset/toponym.txt\"))\n",
    "print(\"ULAN: \", cal_average_characters(\"./dataset/ulan.txt\"))\n",
    "print(\"Wikidata: \", cal_average_characters(\"./dataset/wikidata.txt\"))\n"
   ]
  },
  {
   "cell_type": "code",
   "execution_count": null,
   "metadata": {},
   "outputs": [],
   "source": []
  }
 ],
 "metadata": {
  "kernelspec": {
   "display_name": "Python 3.9.13 64-bit (windows store)",
   "language": "python",
   "name": "python3"
  },
  "language_info": {
   "codemirror_mode": {
    "name": "ipython",
    "version": 3
   },
   "file_extension": ".py",
   "mimetype": "text/x-python",
   "name": "python",
   "nbconvert_exporter": "python",
   "pygments_lexer": "ipython3",
   "version": "3.9.13"
  },
  "orig_nbformat": 4,
  "vscode": {
   "interpreter": {
    "hash": "e32c473f9ae643a177d9aed137210c843a2749e204593912b966393b5abcabe7"
   }
  }
 },
 "nbformat": 4,
 "nbformat_minor": 2
}
