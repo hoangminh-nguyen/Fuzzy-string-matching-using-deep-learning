{
 "cells": [
  {
   "cell_type": "markdown",
   "metadata": {},
   "source": [
    "### Compare output of Transformer model and Gru model\n",
    "- Transformer true | Gru true\n",
    "- Transformer true | Gru false\n",
    "- Transformer false | Gru true\n",
    "- Transformer false | Gru false"
   ]
  },
  {
   "cell_type": "code",
   "execution_count": 3,
   "metadata": {},
   "outputs": [],
   "source": [
    "def compare_output_trans_gru(out_trans_path, out_gru_path, output_path):\n",
    "    ftrans = open(out_trans_path, \"r\", encoding=\"utf-8\")\n",
    "    fgru = open(out_gru_path, \"r\", encoding=\"utf-8\")\n",
    "    t_t = open(output_path + \"trans-gru-tt.txt\", \"w\", encoding=\"utf-8\")\n",
    "    t_f = open(output_path + \"trans-gru-tf.txt\", \"w\", encoding=\"utf-8\")\n",
    "    f_t = open(output_path + \"trans-gru-ft.txt\", \"w\", encoding=\"utf-8\")\n",
    "    f_f = open(output_path + \"trans-gru-ff.txt\", \"w\", encoding=\"utf-8\")\n",
    "\n",
    "    # read title line: s1|s2|prediction|p0|p1|label\n",
    "    ftrans.readline()\n",
    "    fgru.readline()\n",
    "\n",
    "    while (True):\n",
    "        line_trans = ftrans.readline()\n",
    "        line_gru = fgru.readline()\n",
    "        if (line_trans == \"\"):\n",
    "            break\n",
    "        line_trans_split = line_trans.split(\"\\t\")\n",
    "        line_gru_split = line_gru.split(\"\\t\")\n",
    "\n",
    "        trans_pred = line_trans_split[2].strip()\n",
    "        gru_pred = line_gru_split[2].strip()\n",
    "        label = line_trans_split[5].strip()\n",
    "\n",
    "        if (trans_pred == label and gru_pred == label):\n",
    "            t_t.write(line_trans)\n",
    "        elif (trans_pred == label and gru_pred != label):\n",
    "            t_f.write(line_trans)\n",
    "        elif (trans_pred != label and gru_pred == label):\n",
    "            f_t.write(line_trans)\n",
    "        elif (trans_pred != label and gru_pred != label):\n",
    "            f_f.write(line_trans)\n",
    "        else:\n",
    "            print(\"Error when reading line: \", line_trans)\n",
    "\n",
    "def f1_score(out_trans_path, output_path):\n",
    "    ftrans = open(out_trans_path, \"r\", encoding=\"utf-8\")\n",
    "    t_t = open(output_path + \"trans-tt.txt\", \"w\", encoding=\"utf-8\")\n",
    "    t_f = open(output_path + \"trans-tf.txt\", \"w\", encoding=\"utf-8\")\n",
    "    f_t = open(output_path + \"trans-ft.txt\", \"w\", encoding=\"utf-8\")\n",
    "    f_f = open(output_path + \"trans-ff.txt\", \"w\", encoding=\"utf-8\")\n",
    "\n",
    "    # read title line: s1|s2|prediction|p0|p1|label\n",
    "    ftrans.readline()\n",
    "\n",
    "    while (True):\n",
    "        line_trans = ftrans.readline()\n",
    "        if (line_trans == \"\"):\n",
    "            break\n",
    "        line_trans_split = line_trans.split(\"\\t\")\n",
    "        \n",
    "        pred = line_trans_split[2].strip()\n",
    "        label = line_trans_split[5].strip()\n",
    "        \n",
    "        if (pred == \"1\" and label == \"1\"):\n",
    "            t_t.write(line_trans)\n",
    "        elif (pred == \"1\" and label == \"0\"):\n",
    "            t_f.write(line_trans)\n",
    "        elif (pred == \"0\" and label == \"1\"):\n",
    "            f_t.write(line_trans)\n",
    "        elif (pred == \"0\" and label == \"0\"):\n",
    "            f_f.write(line_trans)\n",
    "        else:\n",
    "            print(\"Error when reading line: \", line_trans)\n",
    "           "
   ]
  },
  {
   "cell_type": "code",
   "execution_count": 5,
   "metadata": {},
   "outputs": [],
   "source": [
    "out_trans_path = \"./models/finetuned_trans_09052022/pred_results_finetuned-test.txt\"\n",
    "out_gru_path = \"./models/finetuned_gru_09052022/pred_results_finetuned-test.txt\"\n",
    "output_path = \"./comparison/ULAN/09052022/\"\n",
    "compare_output_trans_gru(out_trans_path, out_gru_path, output_path)\n",
    "f1_score(out_trans_path, output_path)"
   ]
  },
  {
   "cell_type": "code",
   "execution_count": null,
   "metadata": {},
   "outputs": [],
   "source": []
  }
 ],
 "metadata": {
  "interpreter": {
   "hash": "3067ead486e059ec00ffe7555bdb889e6e264a24dc711bf108106cc7baee8d5d"
  },
  "kernelspec": {
   "display_name": "Python 3.8.8 ('base')",
   "language": "python",
   "name": "python3"
  },
  "language_info": {
   "codemirror_mode": {
    "name": "ipython",
    "version": 3
   },
   "file_extension": ".py",
   "mimetype": "text/x-python",
   "name": "python",
   "nbconvert_exporter": "python",
   "pygments_lexer": "ipython3",
   "version": "3.8.8"
  },
  "orig_nbformat": 4
 },
 "nbformat": 4,
 "nbformat_minor": 2
}
