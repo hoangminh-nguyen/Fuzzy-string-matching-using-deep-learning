{
 "cells": [
  {
   "cell_type": "markdown",
   "metadata": {},
   "source": [
    "### Compare output of Transformer model and Gru model\n",
    "- Transformer true | Gru true\n",
    "- Transformer true | Gru false\n",
    "- Transformer false | Gru true\n",
    "- Transformer false | Gru false"
   ]
  },
  {
   "cell_type": "code",
   "execution_count": 10,
   "metadata": {},
   "outputs": [],
   "source": [
    "def compare_output_trans_gru(out_trans_path, out_gru_path, output_path):\n",
    "    ftrans = open(out_trans_path, \"r\", encoding=\"utf-8\")\n",
    "    fgru = open(out_gru_path, \"r\", encoding=\"utf-8\")\n",
    "    t_t = open(output_path + \"trans-gru-tt.txt\", \"w\", encoding=\"utf-8\")\n",
    "    t_f = open(output_path + \"trans-gru-tf.txt\", \"w\", encoding=\"utf-8\")\n",
    "    f_t = open(output_path + \"trans-gru-ft.txt\", \"w\", encoding=\"utf-8\")\n",
    "    f_f = open(output_path + \"trans-gru-ff.txt\", \"w\", encoding=\"utf-8\")\n",
    "\n",
    "    # read title line: s1|s2|prediction|p0|p1|label\n",
    "    ftrans.readline()\n",
    "    fgru.readline()\n",
    "\n",
    "    while (True):\n",
    "        line_trans = ftrans.readline()\n",
    "        line_gru = fgru.readline()\n",
    "        if (line_trans == \"\"):\n",
    "            break\n",
    "        line_trans_split = line_trans.split(\"\\t\")\n",
    "        line_gru_split = line_gru.split(\"\\t\")\n",
    "\n",
    "        trans_pred = line_trans_split[2].strip()\n",
    "        gru_pred = line_gru_split[2].strip()\n",
    "        label = line_trans_split[5].strip()\n",
    "\n",
    "        if (trans_pred == label and gru_pred == label):\n",
    "            t_t.write(line_trans)\n",
    "        elif (trans_pred == label and gru_pred != label):\n",
    "            t_f.write(line_trans)\n",
    "        elif (trans_pred != label and gru_pred == label):\n",
    "            f_t.write(line_trans)\n",
    "        elif (trans_pred != label and gru_pred != label):\n",
    "            f_f.write(line_trans)\n",
    "        else:\n",
    "            print(\"Error when reading line: \", line_trans)\n",
    "\n",
    "def f1_score(out_trans_path, output_path):\n",
    "    ftrans = open(out_trans_path, \"r\", encoding=\"utf-8\")\n",
    "    t_t = open(output_path + \"trans-tt.txt\", \"w\", encoding=\"utf-8\")\n",
    "    t_f = open(output_path + \"trans-tf.txt\", \"w\", encoding=\"utf-8\")\n",
    "    f_t = open(output_path + \"trans-ft.txt\", \"w\", encoding=\"utf-8\")\n",
    "    f_f = open(output_path + \"trans-ff.txt\", \"w\", encoding=\"utf-8\")\n",
    "\n",
    "    # read title line: s1|s2|prediction|p0|p1|label\n",
    "    ftrans.readline()\n",
    "\n",
    "    while (True):\n",
    "        line_trans = ftrans.readline()\n",
    "        if (line_trans == \"\"):\n",
    "            break\n",
    "        line_trans_split = line_trans.split(\"\\t\")\n",
    "        \n",
    "        pred = line_trans_split[2].strip()\n",
    "        label = line_trans_split[5].strip()\n",
    "        \n",
    "        if (pred == \"1\" and label == \"1\"):\n",
    "            t_t.write(line_trans)\n",
    "        elif (pred == \"1\" and label == \"0\"):\n",
    "            t_f.write(line_trans)\n",
    "        elif (pred == \"0\" and label == \"1\"):\n",
    "            f_t.write(line_trans)\n",
    "        elif (pred == \"0\" and label == \"0\"):\n",
    "            f_f.write(line_trans)\n",
    "        else:\n",
    "            print(\"Error when reading line: \", line_trans)\n",
    "           "
   ]
  },
  {
   "cell_type": "code",
   "execution_count": 11,
   "metadata": {},
   "outputs": [],
   "source": [
    "out_trans_path = \"./models/finetuned_transformer_ulan_23072022/pred_results_ulan-test.txt\"\n",
    "out_gru_path = \"./models/finetuned_gru_ulan_23072022/pred_results_ulan-test.txt\"\n",
    "output_path = \"./comparison/ULAN/\"\n",
    "compare_output_trans_gru(out_trans_path, out_gru_path, output_path)\n",
    "#f1_score(out_trans_path, output_path)"
   ]
  },
  {
   "cell_type": "markdown",
   "metadata": {},
   "source": [
    "### Count number of \"initial only\" names that are correctly predicted"
   ]
  },
  {
   "cell_type": "code",
   "execution_count": 1,
   "metadata": {},
   "outputs": [
    {
     "name": "stdout",
     "output_type": "stream",
     "text": [
      "Predict \"inital only\" case:\n",
      "ULAN: \n",
      "- Transformer:  4841 / 5052  :  0.9582343626286619\n",
      "- GRU:  4716 / 5052  :  0.9334916864608076\n",
      "Wikidata: \n"
     ]
    }
   ],
   "source": [
    "def check_initial_name(input_string):\n",
    "    split = input_string.split(\" \")\n",
    "    for x in split:\n",
    "        if (len(x) == 2 and x[1] == '.'):\n",
    "            return True\n",
    "    return False\n",
    "\n",
    "def count_true_inital_only(trans_path, gru_path, output_path):\n",
    "    ftrans = open(trans_path, \"r\", encoding=\"utf-8\") \n",
    "    fgru = open(gru_path, \"r\", encoding=\"utf-8\") \n",
    "    trans_true_gru_false = open(output_path + \"initial-trans-true-gru-false.txt\", \"w\", encoding=\"utf-8\")\n",
    "    \n",
    "    # read title line: s1|s2|prediction|p0|p1|label\n",
    "    ftrans.readline()\n",
    "    fgru.readline()\n",
    "    \n",
    "    trans_count, gru_count, sum = 0, 0, 0\n",
    "    while(True):\n",
    "        ltrans = ftrans.readline() \n",
    "        lgru = fgru.readline() \n",
    "        \n",
    "        if (ltrans == \"\"):\n",
    "            break\n",
    "        line_trans_split = ltrans.split(\"\\t\")\n",
    "        line_gru_split = lgru.split(\"\\t\")\n",
    "    \n",
    "        s1, s2 = line_trans_split[0], line_trans_split[1]\n",
    "        trans_predict, gru_predict = line_trans_split[2], line_gru_split[2]\n",
    "        label = line_trans_split[5].strip()\n",
    "        \n",
    "        if ((check_initial_name(s1) or check_initial_name(s2)) and label == \"1\"):\n",
    "            sum = sum + 1\n",
    "            if (trans_predict == label):\n",
    "                trans_count = trans_count + 1\n",
    "            if (gru_predict == label):\n",
    "                gru_count = gru_count + 1\n",
    "\n",
    "            if (trans_predict == label and gru_predict != label):\n",
    "                trans_true_gru_false.write(ltrans)\n",
    "            \n",
    "    print(\"- Transformer: \", trans_count, \"/\", sum, \" : \", trans_count/sum) \n",
    "    print(\"- GRU: \", gru_count, \"/\", sum, \" : \", gru_count/sum)        \n",
    "    \n",
    "\n",
    "trans_ulan_path = \"./models/finetuned_transformer_ulan_23072022/pred_results_ulan-test.txt\"\n",
    "trans_wiki_path = \"./models/finetuned_transformer_wikidata_23072022/pred_results_wikidata-test.txt\"\n",
    "gru_ulan_path = \"./models/finetuned_gru_ulan_23072022/pred_results_ulan-test.txt\"\n",
    "gru_wiki_path = \"./models/finetuned_gru_wikidata_23072022/pred_results_wikidata-test.txt\"\n",
    "output_path = \"\"\n",
    "\n",
    "print(\"Predict \\\"inital only\\\" case:\")\n",
    "print(\"ULAN: \") \n",
    "count_true_inital_only(trans_ulan_path, gru_ulan_path, output_path)\n",
    "print(\"Wikidata: \") \n",
    "#count_true_inital_only(trans_wiki_path, gru_wiki_path, output_path)"
   ]
  },
  {
   "cell_type": "code",
   "execution_count": null,
   "metadata": {},
   "outputs": [],
   "source": []
  }
 ],
 "metadata": {
  "kernelspec": {
   "display_name": "Python 3.9.13 64-bit (windows store)",
   "language": "python",
   "name": "python3"
  },
  "language_info": {
   "codemirror_mode": {
    "name": "ipython",
    "version": 3
   },
   "file_extension": ".py",
   "mimetype": "text/x-python",
   "name": "python",
   "nbconvert_exporter": "python",
   "pygments_lexer": "ipython3",
   "version": "3.9.13"
  },
  "orig_nbformat": 4,
  "vscode": {
   "interpreter": {
    "hash": "e32c473f9ae643a177d9aed137210c843a2749e204593912b966393b5abcabe7"
   }
  }
 },
 "nbformat": 4,
 "nbformat_minor": 2
}
